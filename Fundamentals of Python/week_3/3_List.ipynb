{
 "cells": [
  {
   "cell_type": "code",
   "execution_count": null,
   "id": "dcbf96c2-3dbc-4b63-8066-758c7025d757",
   "metadata": {},
   "outputs": [],
   "source": [
    "#List\n",
    "\"\"\"\n",
    "List is a collection of items stored in a single variable. \n",
    "Items can be any data type (numbers, strings , etc.)\n",
    "Lists are ordered an mutable ( you can change them)\n",
    "\n",
    "List can hold duplicate value\n",
    "List is dynamic data type because its size and content can change during runtime\n",
    "\n",
    "List is Slower in  Execution\n",
    "Internally, when a list grows beyond its capacity, \n",
    "Python creates a new larger memory block and copies the data.\n",
    "\n",
    "This copying step makes some .append() operations slower in certain cases\n",
    "(called amortized cost).\n",
    "\"\"\"\n",
    "\n",
    "a=[99,\"Anil\"]\n",
    "print(a)       #[99, 'Anil']\n",
    "print(type(a)) #<class 'list'>\n",
    "\n",
    "#print(a[1])\n"
   ]
  },
  {
   "cell_type": "code",
   "execution_count": 2,
   "id": "0c6d0a7d-6caf-4af1-844b-5753cae31b81",
   "metadata": {},
   "outputs": [
    {
     "name": "stdout",
     "output_type": "stream",
     "text": [
      "Apple\n",
      "Banana\n",
      "Mango\n"
     ]
    }
   ],
   "source": [
    "fruits=[\"Apple\",\"Banana\",\"Mango\"]\n",
    "for fruit in fruits:\n",
    "    print(fruit)"
   ]
  },
  {
   "cell_type": "code",
   "execution_count": 24,
   "id": "91985e62-7082-46b0-93d6-142aeb75aa79",
   "metadata": {},
   "outputs": [
    {
     "name": "stdout",
     "output_type": "stream",
     "text": [
      "Apple\n",
      "a\n"
     ]
    }
   ],
   "source": [
    "#Access Items\n",
    "#It Access by index\n",
    "print(fruits[0])\n",
    "print(fruit[1])\n",
    "\n",
    "\n"
   ]
  },
  {
   "cell_type": "code",
   "execution_count": 25,
   "id": "18917d3a-9ab3-4a6d-b5c2-8413397a6bdd",
   "metadata": {},
   "outputs": [
    {
     "name": "stdout",
     "output_type": "stream",
     "text": [
      "['Apple', 'Orange', 'Mango', 'Grape']\n"
     ]
    }
   ],
   "source": [
    "#change value\n",
    "#modify an element\n",
    "\n",
    "fruits[1]=\"Orange\"\n",
    "print(fruits)"
   ]
  },
  {
   "cell_type": "code",
   "execution_count": 24,
   "id": "f419e540-6ae8-4bf2-95f7-7fd87ea952b8",
   "metadata": {},
   "outputs": [
    {
     "name": "stdout",
     "output_type": "stream",
     "text": [
      "['Apple', 'Orange', 'Mango', 'Grape']\n",
      "['Apple', 'Orange', 'Mango', 'Grape']\n"
     ]
    }
   ],
   "source": [
    "#add item\n",
    "#add to the end\n",
    "fruits.append(\"Grape\")\n",
    "print(fruits)"
   ]
  },
  {
   "cell_type": "code",
   "execution_count": 26,
   "id": "91d36610-3a45-48f1-8020-094c59c3806d",
   "metadata": {},
   "outputs": [
    {
     "name": "stdout",
     "output_type": "stream",
     "text": [
      "['Apple', 'Cherry', 'Orange', 'Mango', 'Grape']\n"
     ]
    }
   ],
   "source": [
    "#insert at index\n",
    "#Add at specific position\n",
    "\n",
    "fruits.insert(1,\"Cherry\")\n",
    "print(fruits)\n"
   ]
  },
  {
   "cell_type": "code",
   "execution_count": 27,
   "id": "3715a265-125d-47a2-82ad-6dbe286f19f6",
   "metadata": {},
   "outputs": [
    {
     "name": "stdout",
     "output_type": "stream",
     "text": [
      "['Apple', 'Cherry', 'Orange', 'Mango']\n"
     ]
    }
   ],
   "source": [
    "#Remove item\n",
    "#Remove by value\n",
    "\n",
    "fruits.remove(\"Grape\")\n",
    "print(fruits)\n"
   ]
  },
  {
   "cell_type": "code",
   "execution_count": 28,
   "id": "515d3e39-58ce-4916-a976-589c4a0de341",
   "metadata": {},
   "outputs": [
    {
     "name": "stdout",
     "output_type": "stream",
     "text": [
      "['Cherry', 'Orange', 'Mango']\n"
     ]
    }
   ],
   "source": [
    "#Delet by index\n",
    "del fruits[0]\n",
    "print(fruits)"
   ]
  },
  {
   "cell_type": "code",
   "execution_count": 29,
   "id": "bcea4d7f-9082-47d5-ab85-e546335c8798",
   "metadata": {},
   "outputs": [
    {
     "name": "stdout",
     "output_type": "stream",
     "text": [
      "3\n"
     ]
    }
   ],
   "source": [
    "#Length\n",
    "#Number of elements\n",
    "\n",
    "print(len(fruits))"
   ]
  }
 ],
 "metadata": {
  "kernelspec": {
   "display_name": "Python 3 (ipykernel)",
   "language": "python",
   "name": "python3"
  },
  "language_info": {
   "codemirror_mode": {
    "name": "ipython",
    "version": 3
   },
   "file_extension": ".py",
   "mimetype": "text/x-python",
   "name": "python",
   "nbconvert_exporter": "python",
   "pygments_lexer": "ipython3",
   "version": "3.13.1"
  }
 },
 "nbformat": 4,
 "nbformat_minor": 5
}
