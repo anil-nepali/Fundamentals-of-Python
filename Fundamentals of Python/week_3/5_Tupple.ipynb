{
 "cells": [
  {
   "cell_type": "code",
   "execution_count": null,
   "id": "6e477915-cf4f-4a56-b9da-a255b9f50c85",
   "metadata": {},
   "outputs": [],
   "source": [
    "\n",
    "#Tupple\n",
    "'''\n",
    "    it is an ordered collection of data with elements separated by a commas\n",
    "    and enclosed with in paranthesis()\n",
    "    \n",
    "    They are immutable and cannot be modified after creation.\n",
    "\n",
    "    You cannot add, remove, or update elements in a tuple.\n",
    "\n",
    "    You can access elements via indexing and slicing.\n",
    "'''\n",
    "b=('Bajhipur-4',' Bhingri')\n",
    "print(b)       #('Bajhipur-4', ' Bhingri')\n",
    "print(type(b)) #<class 'tuple'>"
   ]
  },
  {
   "cell_type": "code",
   "execution_count": 2,
   "id": "d36b7b02-ba88-4709-92ec-aa72ff114f09",
   "metadata": {},
   "outputs": [
    {
     "name": "stdout",
     "output_type": "stream",
     "text": [
      "1\n"
     ]
    }
   ],
   "source": [
    "#Access item\n",
    "#info[0]\n",
    "info=(1,2,3)\n",
    "print(info[0])\n"
   ]
  },
  {
   "cell_type": "code",
   "execution_count": 2,
   "id": "75d375d7-0125-45ef-a08d-89cff3274136",
   "metadata": {},
   "outputs": [
    {
     "ename": "TypeError",
     "evalue": "'tuple' object does not support item assignment",
     "output_type": "error",
     "traceback": [
      "\u001b[31m---------------------------------------------------------------------------\u001b[39m",
      "\u001b[31mTypeError\u001b[39m                                 Traceback (most recent call last)",
      "\u001b[36mCell\u001b[39m\u001b[36m \u001b[39m\u001b[32mIn[2]\u001b[39m\u001b[32m, line 4\u001b[39m\n\u001b[32m      1\u001b[39m \u001b[38;5;66;03m#Length\u001b[39;00m\n\u001b[32m      2\u001b[39m \u001b[38;5;66;03m#len(info)\u001b[39;00m\n\u001b[32m----> \u001b[39m\u001b[32m4\u001b[39m \u001b[43minfo\u001b[49m\u001b[43m[\u001b[49m\u001b[32;43m0\u001b[39;49m\u001b[43m]\u001b[49m=\u001b[33m\"\u001b[39m\u001b[33mDoe\u001b[39m\u001b[33m\"\u001b[39m\n",
      "\u001b[31mTypeError\u001b[39m: 'tuple' object does not support item assignment"
     ]
    }
   ],
   "source": [
    "#Length\n",
    "#len(info)\n",
    "\n",
    "info[0]=\"Doe\" #error cause tupples can't be changed"
   ]
  },
  {
   "cell_type": "code",
   "execution_count": 3,
   "id": "9e9da274-b3b4-4ad9-be26-1626ab29c888",
   "metadata": {},
   "outputs": [
    {
     "name": "stdout",
     "output_type": "stream",
     "text": [
      "3\n"
     ]
    }
   ],
   "source": [
    "#Length\n",
    "#Number of elements present \n",
    "\n",
    "print(len(info))"
   ]
  },
  {
   "cell_type": "code",
   "execution_count": 7,
   "id": "80e5af88-fee6-4e23-8ea8-fdd947953606",
   "metadata": {},
   "outputs": [
    {
     "name": "stdout",
     "output_type": "stream",
     "text": [
      "1\n"
     ]
    }
   ],
   "source": [
    "#count\n",
    "#Count how many times a value occurs\n",
    "\n",
    "print(info.count(3))"
   ]
  },
  {
   "cell_type": "code",
   "execution_count": 6,
   "id": "2570ac54-1e94-4ed6-ba79-2c58a48bea6a",
   "metadata": {},
   "outputs": [
    {
     "name": "stdout",
     "output_type": "stream",
     "text": [
      "1\n"
     ]
    }
   ],
   "source": [
    "#Index\n",
    "#Find the position of Value\n",
    "\n",
    "print(info.index(2))"
   ]
  }
 ],
 "metadata": {
  "kernelspec": {
   "display_name": "Python 3 (ipykernel)",
   "language": "python",
   "name": "python3"
  },
  "language_info": {
   "codemirror_mode": {
    "name": "ipython",
    "version": 3
   },
   "file_extension": ".py",
   "mimetype": "text/x-python",
   "name": "python",
   "nbconvert_exporter": "python",
   "pygments_lexer": "ipython3",
   "version": "3.13.1"
  }
 },
 "nbformat": 4,
 "nbformat_minor": 5
}
