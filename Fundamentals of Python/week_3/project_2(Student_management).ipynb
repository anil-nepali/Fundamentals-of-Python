{
 "cells": [
  {
   "cell_type": "code",
   "execution_count": 2,
   "id": "82749f08-3eb3-4d41-9864-b094fee69c8b",
   "metadata": {},
   "outputs": [
    {
     "name": "stdin",
     "output_type": "stream",
     "text": [
      "Enter the number of engineering students to be stored:  1\n"
     ]
    },
    {
     "name": "stdout",
     "output_type": "stream",
     "text": [
      "\n",
      "Enter details for student 1:\n"
     ]
    },
    {
     "name": "stdin",
     "output_type": "stream",
     "text": [
      "Name:  q\n",
      "Roll Number:  1\n",
      "Department of Engineering (IT, Computer, Software only):  it\n",
      "Marks (out of 100):  4\n"
     ]
    },
    {
     "name": "stdout",
     "output_type": "stream",
     "text": [
      "\n",
      "--- Engineering Student Records ---\n",
      "\n",
      "Name       : q\n",
      "Roll Number: 1\n",
      "Department : IT\n",
      "Marks      : 4.0\n",
      "\n",
      " Average Marks of All Students: 4.00\n"
     ]
    }
   ],
   "source": [
    "students = []  # To store all student information\n",
    "\n",
    "valid_departments = ['IT', 'COMPUTER', 'SOFTWARE']  # Allowed departments\n",
    "\n",
    "num_students = int(input(\"Enter the number of engineering students to be stored: \"))  # Number of students\n",
    "\n",
    "for i in range(num_students):\n",
    "    print(f\"\\nEnter details for student {i + 1}:\")\n",
    "    name = input(\"Name: \")\n",
    "    roll_no = input(\"Roll Number: \")\n",
    "\n",
    "    while True:\n",
    "        department = input(\"Department of Engineering (IT, Computer, Software only): \").strip().upper()\n",
    "        if department in valid_departments:\n",
    "            break\n",
    "        else:\n",
    "            print(\"Invalid department. Please enter IT, Computer, or Software.\")\n",
    "\n",
    "    while True:\n",
    "        try:\n",
    "            marks = float(input(\"Marks (out of 100): \"))\n",
    "            if 0 <= marks <= 100:\n",
    "                break\n",
    "            else:\n",
    "                print(\" Marks must be between 0 and 100.\")\n",
    "        except ValueError:\n",
    "            print(\"Please enter a valid number for marks.\")\n",
    "\n",
    "    student = {\n",
    "        'Name': name,\n",
    "        'Roll Number': roll_no,\n",
    "        'Department': department,\n",
    "        'Marks': marks\n",
    "    }\n",
    "\n",
    "    students.append(student)\n",
    "\n",
    "print(\"\\n--- Engineering Student Records ---\")\n",
    "for student in students:\n",
    "    print(f\"\\nName       : {student['Name']}\")\n",
    "    print(f\"Roll Number: {student['Roll Number']}\")\n",
    "    print(f\"Department : {student['Department']}\")\n",
    "    print(f\"Marks      : {student['Marks']}\")\n",
    "\n",
    "\n",
    "total_marks = sum(student['Marks'] for student in students)\n",
    "average = total_marks / num_students\n",
    "print(f\"\\n Average Marks of All Students: {average:.2f}\")\n"
   ]
  }
 ],
 "metadata": {
  "kernelspec": {
   "display_name": "Python 3 (ipykernel)",
   "language": "python",
   "name": "python3"
  },
  "language_info": {
   "codemirror_mode": {
    "name": "ipython",
    "version": 3
   },
   "file_extension": ".py",
   "mimetype": "text/x-python",
   "name": "python",
   "nbconvert_exporter": "python",
   "pygments_lexer": "ipython3",
   "version": "3.13.1"
  }
 },
 "nbformat": 4,
 "nbformat_minor": 5
}
