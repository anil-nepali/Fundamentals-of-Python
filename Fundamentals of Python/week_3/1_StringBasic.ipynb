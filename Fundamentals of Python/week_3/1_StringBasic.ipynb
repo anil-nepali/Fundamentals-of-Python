{
 "cells": [
  {
   "cell_type": "code",
   "execution_count": 1,
   "id": "a28898ab-ba61-4403-9913-8c83cff53cf6",
   "metadata": {},
   "outputs": [
    {
     "name": "stdout",
     "output_type": "stream",
     "text": [
      "My Brother name is : Rohan\n",
      "R\n",
      "o\n",
      "h\n",
      "a\n",
      "n\n"
     ]
    }
   ],
   "source": [
    "#String in Python\n",
    "'''\n",
    "    String is a data type in python where a sequence of characters are\n",
    "    enclosed with single quote(' '),double quote(\" \") or tripel quote(\"\"\" \"\"\")\n",
    "\n",
    "    Strings are immutable (cannot be changed once created )\n",
    "'''\n",
    "\n",
    "bro=\"Rohan\"\n",
    "print(\"My Brother name is :\",bro)\n",
    "for character in bro:\n",
    "    print(character)\n",
    "\n",
    "\n",
    "\n"
   ]
  },
  {
   "cell_type": "code",
   "execution_count": 2,
   "id": "584e35f8-4bb8-483d-9c06-550de28a20e2",
   "metadata": {},
   "outputs": [
    {
     "name": "stdout",
     "output_type": "stream",
     "text": [
      "\n",
      "        Hi, Today is the 4 th day of python.\n",
      "        I'm learning python \n",
      "        it seems so interesting\n",
      "    \n"
     ]
    }
   ],
   "source": [
    "#Multi line string\n",
    "'''\n",
    "    We use \"\"\" \"\"\" or ''' ''' for multiline string\n",
    "'''\n",
    "str='''\n",
    "        Hi, Today is the 4 th day of python.\n",
    "        I'm learning python \n",
    "        it seems so interesting\n",
    "    '''\n",
    "print(str)"
   ]
  }
 ],
 "metadata": {
  "kernelspec": {
   "display_name": "Python 3 (ipykernel)",
   "language": "python",
   "name": "python3"
  },
  "language_info": {
   "codemirror_mode": {
    "name": "ipython",
    "version": 3
   },
   "file_extension": ".py",
   "mimetype": "text/x-python",
   "name": "python",
   "nbconvert_exporter": "python",
   "pygments_lexer": "ipython3",
   "version": "3.13.1"
  }
 },
 "nbformat": 4,
 "nbformat_minor": 5
}
