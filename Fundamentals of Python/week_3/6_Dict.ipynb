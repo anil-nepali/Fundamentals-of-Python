{
 "cells": [
  {
   "cell_type": "code",
   "execution_count": 10,
   "id": "974adb69-0512-46ed-b3b3-b4811a2e0f1f",
   "metadata": {},
   "outputs": [
    {
     "name": "stdout",
     "output_type": "stream",
     "text": [
      "{'name': 'Anil Nepali', 'age': 21, 'CanVote': True}\n",
      "name: Anil Nepali\n",
      "age: 21\n",
      "CanVote: True\n"
     ]
    }
   ],
   "source": [
    "\n",
    "#dict\n",
    "'''\n",
    "    A dictionary is an unordered collection of data containing a key: value pair\n",
    "    The values are enclose within curly brackets {}\n",
    "    Each Key is unique, and each key maps to a value.\n",
    "\n",
    "    key acts like a label or identifier that points to (or maps to) a value.\n",
    "    we use key to acess the value.\n",
    "\n",
    "    here in dict_1...name, age and canvote are keys and anil nepali, 21, true are the vlaues\n",
    "\n",
    "    \n",
    "'''\n",
    "\n",
    "dict_1={\n",
    "    \"name\":'Anil Nepali',\n",
    "    \"age\":21,\n",
    "    \"CanVote\":True\n",
    "}\n",
    "\n",
    "print(dict_1)\n",
    "\n",
    "for key, value in dict_1.items():\n",
    "    print(f\"{key}: {value}\")\n",
    "\n",
    "\n",
    "\n"
   ]
  },
  {
   "cell_type": "code",
   "execution_count": 3,
   "id": "b128ae5e-4d2a-4fb9-9ebc-e680aecc8c8a",
   "metadata": {},
   "outputs": [
    {
     "name": "stdout",
     "output_type": "stream",
     "text": [
      "dict_keys(['name', 'age', 'CanVote'])\n"
     ]
    }
   ],
   "source": [
    "print(dict_1.keys())"
   ]
  },
  {
   "cell_type": "code",
   "execution_count": 4,
   "id": "6b13c92a-0b2f-48cd-8499-d7155310d6e4",
   "metadata": {},
   "outputs": [
    {
     "name": "stdout",
     "output_type": "stream",
     "text": [
      "dict_values(['Anil Nepali', 21, True])\n"
     ]
    }
   ],
   "source": [
    "print(dict_1.values())"
   ]
  },
  {
   "cell_type": "code",
   "execution_count": 5,
   "id": "dd2c83bd-509d-45a9-b48d-09b7be0f8b8f",
   "metadata": {},
   "outputs": [
    {
     "name": "stdout",
     "output_type": "stream",
     "text": [
      "dict_items([('name', 'Anil Nepali'), ('age', 21), ('CanVote', True)])\n"
     ]
    }
   ],
   "source": [
    "print(dict_1.items())"
   ]
  },
  {
   "cell_type": "code",
   "execution_count": 6,
   "id": "92b2b06e-a5b1-4c50-afef-ae09c3d4f492",
   "metadata": {},
   "outputs": [
    {
     "name": "stdout",
     "output_type": "stream",
     "text": [
      "21\n"
     ]
    }
   ],
   "source": [
    "print(dict_1.get(\"age\"))"
   ]
  },
  {
   "cell_type": "code",
   "execution_count": 7,
   "id": "94d3c1a4-eefa-4dfb-89de-98282cbcfcd2",
   "metadata": {},
   "outputs": [
    {
     "name": "stdout",
     "output_type": "stream",
     "text": [
      "True\n"
     ]
    }
   ],
   "source": [
    "print(dict_1.pop(\"CanVote\"))"
   ]
  },
  {
   "cell_type": "code",
   "execution_count": 8,
   "id": "213bef2b-d1ef-4ace-87e5-ee87a32c92f4",
   "metadata": {},
   "outputs": [
    {
     "name": "stdout",
     "output_type": "stream",
     "text": [
      "None\n"
     ]
    }
   ],
   "source": [
    "print(dict_1.clear())"
   ]
  }
 ],
 "metadata": {
  "kernelspec": {
   "display_name": "Python 3 (ipykernel)",
   "language": "python",
   "name": "python3"
  },
  "language_info": {
   "codemirror_mode": {
    "name": "ipython",
    "version": 3
   },
   "file_extension": ".py",
   "mimetype": "text/x-python",
   "name": "python",
   "nbconvert_exporter": "python",
   "pygments_lexer": "ipython3",
   "version": "3.13.1"
  }
 },
 "nbformat": 4,
 "nbformat_minor": 5
}
