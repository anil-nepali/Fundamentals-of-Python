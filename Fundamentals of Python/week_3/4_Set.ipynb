{
 "cells": [
  {
   "cell_type": "code",
   "execution_count": null,
   "id": "6128ed3b-8970-4456-b1b9-6f0a7f497adc",
   "metadata": {},
   "outputs": [],
   "source": [
    "\n",
    "#Set data type\n",
    "#set\n",
    "'''\n",
    "    set is an unordered, mutuable  collection of unique elements in which no element is repeated\n",
    "    The elements of sets are separated by a commas and \n",
    "    contained within curly braces{}\n",
    "    NO duplicats are allowed\n",
    "'''\n",
    "c={8,'My Roll Number'}\n",
    "print(c)      #{8, 'My Roll Number'}\n",
    "print(type(c))#<class 'set'>\n",
    "\n"
   ]
  },
  {
   "cell_type": "code",
   "execution_count": null,
   "id": "d36d2139-6817-497b-8553-3c0db5829fa9",
   "metadata": {},
   "outputs": [],
   "source": [
    "\"\"\"\n",
    "unordered : items don't have a fixed position\n",
    "unidexed: you can't access items using an idex\n",
    "\n",
    "\n",
    "\"\"\""
   ]
  },
  {
   "cell_type": "code",
   "execution_count": 12,
   "id": "adb8dd9d-b250-426b-84c4-cfe970711266",
   "metadata": {},
   "outputs": [
    {
     "name": "stdout",
     "output_type": "stream",
     "text": [
      "3\n",
      "{'NCIT', 'EEC'}\n",
      "{'EEC'}\n",
      "set()\n"
     ]
    }
   ],
   "source": [
    "#common set Methods\n",
    "\n",
    "college={\"EEC\",\"NCIT\",\"COSMOS\"}\n",
    "print(len(college))\n",
    "college.remove(\"COSMOS\")\n",
    "\n",
    "print(college)\n",
    "\n",
    "college.discard(\"NCIT\")\n",
    "print(college)\n",
    "\n",
    "college.clear()\n",
    "\n",
    "print(college)"
   ]
  },
  {
   "cell_type": "code",
   "execution_count": 4,
   "id": "348d318e-03eb-412c-b7a6-b71df9684a78",
   "metadata": {},
   "outputs": [
    {
     "name": "stdout",
     "output_type": "stream",
     "text": [
      "Unique values: [1, 2, 3, 4, 5]\n"
     ]
    }
   ],
   "source": [
    "nums = {1, 2, 2, 3, 4, 4, 5}\n",
    "unique = list(set(nums))\n",
    "print(\"Unique values:\", unique)\n"
   ]
  },
  {
   "cell_type": "code",
   "execution_count": 13,
   "id": "cb18e65b-85d6-4628-bbc0-4414ecf3b936",
   "metadata": {},
   "outputs": [
    {
     "name": "stdout",
     "output_type": "stream",
     "text": [
      "Union: {1, 2, 3, 4, 5}\n",
      "Intersection: {3}\n",
      "{1, 2}\n",
      "Difference A-B: {1, 2}\n",
      "Subset Check False\n"
     ]
    }
   ],
   "source": [
    "A = {1, 2, 3}\n",
    "B = {3, 4, 5}\n",
    "\n",
    "print(\"Union:\", A.union(B))\n",
    "print(\"Intersection:\", A.intersection(B))\n",
    "print(A-B)\n",
    "print(\"Difference A-B:\", A.difference(B))\n",
    "print(\"Subset Check\",A.issubset(B))\n"
   ]
  },
  {
   "cell_type": "code",
   "execution_count": 5,
   "id": "1a7fc893-4929-46a9-b093-a7e2fd8775c9",
   "metadata": {},
   "outputs": [
    {
     "name": "stdout",
     "output_type": "stream",
     "text": [
      "True\n",
      "False\n"
     ]
    }
   ],
   "source": [
    "fruits = {\"apple\", \"banana\", \"cherry\"}\n",
    "print(\"banana\" in fruits)  # True\n",
    "print(\"mango\" in fruits)   # False\n"
   ]
  },
  {
   "cell_type": "code",
   "execution_count": 6,
   "id": "3f05f769-58d8-46eb-afd9-af723be8ce66",
   "metadata": {},
   "outputs": [
    {
     "name": "stdout",
     "output_type": "stream",
     "text": [
      "Unique: {'ram', 'anil', 'sita'}\n",
      "As list: ['ram', 'anil', 'sita']\n"
     ]
    }
   ],
   "source": [
    "names = [\"anil\", \"anil\", \"ram\", \"sita\"]\n",
    "unique_names = set(names)\n",
    "print(\"Unique:\", unique_names)\n",
    "names_back = list(unique_names)\n",
    "print(\"As list:\", names_back)\n"
   ]
  },
  {
   "cell_type": "code",
   "execution_count": null,
   "id": "2be3aaea-4197-49fb-9aca-2326354beba5",
   "metadata": {},
   "outputs": [],
   "source": [
    "\"\"\"\n",
    "union...\n",
    "name.union(a)\n",
    "\n",
    "intersection\n",
    "name.intersection(B)  a&b\n",
    "\n",
    "subset check\n",
    "name.issubset(b)     true if A is subset of B\n",
    "\n",
    "\"\"\""
   ]
  }
 ],
 "metadata": {
  "kernelspec": {
   "display_name": "Python 3 (ipykernel)",
   "language": "python",
   "name": "python3"
  },
  "language_info": {
   "codemirror_mode": {
    "name": "ipython",
    "version": 3
   },
   "file_extension": ".py",
   "mimetype": "text/x-python",
   "name": "python",
   "nbconvert_exporter": "python",
   "pygments_lexer": "ipython3",
   "version": "3.13.1"
  }
 },
 "nbformat": 4,
 "nbformat_minor": 5
}
