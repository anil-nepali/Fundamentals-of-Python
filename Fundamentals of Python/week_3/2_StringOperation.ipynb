{
 "cells": [
  {
   "cell_type": "code",
   "execution_count": 1,
   "id": "5bdea5df-a0c4-4a65-9ada-fc688c0d7353",
   "metadata": {},
   "outputs": [
    {
     "name": "stdout",
     "output_type": "stream",
     "text": [
      "Hello World\n"
     ]
    }
   ],
   "source": [
    "#String Operations in Python\n",
    "'''\n",
    "    String operations involve manipulating strings using operators\n",
    "    or constructs without calling built-in methods.\n",
    "'''\n",
    "\n",
    "# 1. Concatenation\n",
    "'''It is used to combines strings'''\n",
    "str1 = \"Hello\"\n",
    "str2 = \"World\"\n",
    "result = str1 + \" \" + str2\n",
    "print(result)  #  Hello World\n"
   ]
  },
  {
   "cell_type": "code",
   "execution_count": 2,
   "id": "c0563794-187c-4384-ba75-631c525d9827",
   "metadata": {},
   "outputs": [
    {
     "name": "stdout",
     "output_type": "stream",
     "text": [
      "PythonPythonPython\n",
      "['Python']\n"
     ]
    }
   ],
   "source": [
    "\n",
    "# 2. Repetition\n",
    "'''It used to repeats string'''\n",
    "string = \"Python\"\n",
    "result = string * 3\n",
    "print(result)  # PythonPythonPython\n",
    "print(string.split(\",\"))"
   ]
  },
  {
   "cell_type": "code",
   "execution_count": 3,
   "id": "1f7faf67-366c-4b1e-9aa1-39f9904ae5ec",
   "metadata": {},
   "outputs": [
    {
     "name": "stdout",
     "output_type": "stream",
     "text": [
      "['a', 'b', 'c']\n"
     ]
    }
   ],
   "source": [
    "print(\"a,b,c\".split(\",\"))"
   ]
  },
  {
   "cell_type": "code",
   "execution_count": 3,
   "id": "86eda752-7f0c-4523-876f-138485a34865",
   "metadata": {},
   "outputs": [
    {
     "name": "stdout",
     "output_type": "stream",
     "text": [
      "True\n",
      "True\n"
     ]
    }
   ],
   "source": [
    "\n",
    "# 3. Membership Testing\n",
    "string = \"Python Programming\"\n",
    "print(\"Python\" in string)       #  True\n",
    "print(\"Java\" not in string)     #  True\n"
   ]
  },
  {
   "cell_type": "code",
   "execution_count": 4,
   "id": "a70893c0-615e-4f7f-bdef-273667c846a9",
   "metadata": {},
   "outputs": [
    {
     "name": "stdout",
     "output_type": "stream",
     "text": [
      "False\n",
      "True\n"
     ]
    }
   ],
   "source": [
    "# 4. Comparison\n",
    "str1 = \"apple\"\n",
    "str2 = \"banana\"\n",
    "print(str1 == str2)  #  False\n",
    "print(str1 < str2)   #  True (alphabetical order)\n"
   ]
  },
  {
   "cell_type": "code",
   "execution_count": 5,
   "id": "dacc0851-af42-44b8-af01-969ddf84e562",
   "metadata": {},
   "outputs": [
    {
     "name": "stdout",
     "output_type": "stream",
     "text": [
      "P\n",
      "g\n",
      "gram\n"
     ]
    }
   ],
   "source": [
    "# 5. Indexing and Slicing\n",
    "string = \"Programming\"\n",
    "print(string[0])    #  P (First character)\n",
    "print(string[-1])   #  g (Last character)\n",
    "print(string[3:7])  # gram (Substring)"
   ]
  },
  {
   "cell_type": "code",
   "execution_count": 6,
   "id": "52101889-81f6-45ed-aff7-f7287417d872",
   "metadata": {},
   "outputs": [
    {
     "name": "stdout",
     "output_type": "stream",
     "text": [
      "P\n",
      "y\n",
      "t\n",
      "h\n",
      "o\n",
      "n\n"
     ]
    }
   ],
   "source": [
    "# 6. Iteration\n",
    "string = \"Python\"\n",
    "for char in string:\n",
    "    print(char)\n",
    "# P\n",
    "# y\n",
    "# t\n",
    "# h\n",
    "# o\n",
    "# n"
   ]
  },
  {
   "cell_type": "code",
   "execution_count": 7,
   "id": "9ec8ceb6-a097-4a3f-8908-ea2ff135e8f7",
   "metadata": {},
   "outputs": [
    {
     "name": "stdout",
     "output_type": "stream",
     "text": [
      "6\n"
     ]
    }
   ],
   "source": [
    "# 7. Length\n",
    "string = \"Python\"\n",
    "print(len(string))  #  6"
   ]
  },
  {
   "cell_type": "code",
   "execution_count": 8,
   "id": "5652305e-31dd-4449-bc8e-ebf286574734",
   "metadata": {},
   "outputs": [
    {
     "name": "stdout",
     "output_type": "stream",
     "text": [
      "hello\n"
     ]
    }
   ],
   "source": [
    "# 8. String Immutability\n",
    "string = \"Hello\"\n",
    "# To \"change\" the first character, create a new string\n",
    "string = 'h' + string[1:]  # Replace 'H' with 'h'\n",
    "print(string)  #  hello"
   ]
  },
  {
   "cell_type": "code",
   "execution_count": 1,
   "id": "b0b52132-2876-4879-9a90-23d0031dba2b",
   "metadata": {},
   "outputs": [
    {
     "name": "stdout",
     "output_type": "stream",
     "text": [
      "Python is fun\n",
      "9\n",
      "9\n",
      "3\n",
      "Hello, python world!\n",
      "Hello, Python World!\n",
      "True\n",
      "True\n",
      "True\n",
      "False\n",
      "True\n",
      "False\n",
      "True\n",
      "False\n",
      "True\n",
      "False\n",
      "True\n",
      "False\n",
      "pYTHON\n"
     ]
    }
   ],
   "source": [
    "# String Methods in Python\n",
    "'''\n",
    "    String methods are built-in functions that perform specific operations\n",
    "    on strings. These methods do not modify the original string but return\n",
    "    a new string (because strings are immutable).\n",
    "'''\n",
    "\n",
    "# Example string\n",
    "string = \"  Hello, Python World!  \"\n",
    "\n",
    "\n",
    "\n",
    "\n",
    "# 8. join() - Joins elements of a list into a string with a specified delimiter\n",
    "words = ['Python', 'is', 'fun']\n",
    "print(\" \".join(words))  #  \"Python is fun\"\n",
    "\n",
    "# 9. find() - Returns the first occurrence index of a substring (-1 if not found)\n",
    "print(string.find(\"Python\"))  #  9\n",
    "\n",
    "# 10. index() - Similar to find(), but raises an error if the substring is not found\n",
    "print(string.index(\"Python\"))  #  9\n",
    "# print(string.index(\"Java\"))  # Error: ValueError\n",
    "\n",
    "# 11. count() - Counts the occurrences of a substring in the string\n",
    "print(string.count(\"o\"))  #  3\n",
    "\n",
    "# 12. capitalize() - Capitalizes the first character of the string\n",
    "print(string.strip().capitalize())  #  \"Hello, python world!\"\n",
    "\n",
    "# 13. title() - Capitalizes the first character of every word\n",
    "print(string.strip().title())  #  \"Hello, Python World!\"\n",
    "\n",
    "# 14. startswith() - Checks if the string starts with a specific substring\n",
    "print(string.strip().startswith(\"Hello\"))  #  True\n",
    "\n",
    "# 15. endswith() - Checks if the string ends with a specific substring\n",
    "print(string.strip().endswith(\"World!\"))  #  True\n",
    "\n",
    "# 16. isalpha() - Checks if all characters in the string are alphabetic\n",
    "print(\"Python\".isalpha())  # True\n",
    "print(\"Python3\".isalpha())  # False\n",
    "\n",
    "# 17. isdigit() - Checks if all characters in the string are digits\n",
    "print(\"12345\".isdigit())  #  True\n",
    "print(\"12345a\".isdigit())  # False\n",
    "\n",
    "# 18. isalnum() - Checks if all characters are alphanumeric (letters or digits)\n",
    "print(\"Python3\".isalnum())  # True\n",
    "print(\"Python!\".isalnum())  # False\n",
    "\n",
    "# 19. islower() - Checks if all characters are lowercase\n",
    "print(\"python\".islower())  # True\n",
    "print(\"Python\".islower())  # False\n",
    "\n",
    "# 20. isupper() - Checks if all characters are uppercase\n",
    "print(\"PYTHON\".isupper())  # True\n",
    "print(\"Python\".isupper())  # False\n",
    "\n",
    "# 21. swapcase() - Swaps the case of each character\n",
    "print(\"Python\".swapcase())  # \"pYTHON\"\n"
   ]
  },
  {
   "cell_type": "code",
   "execution_count": 2,
   "id": "51be6794-4a0c-4f58-a4a5-c2fabd8c9b7c",
   "metadata": {},
   "outputs": [
    {
     "name": "stdout",
     "output_type": "stream",
     "text": [
      "py\n",
      "Hello, Python World!\n",
      "Hello, Python World!  \n",
      "  Hello, Python World!\n"
     ]
    }
   ],
   "source": [
    "str=\" py \"\n",
    "print(str.strip())\n",
    "# 3. strip() - Removes leading and trailing whitespace\n",
    "print(string.strip())  #  \"Hello, Python World!\"\n",
    "\n",
    "# 4. lstrip() - Removes leading (left-side) whitespace\n",
    "print(string.lstrip())  #  \"Hello, Python World!  \"\n",
    "\n",
    "# 5. rstrip() - Removes trailing (right-side) whitespace\n",
    "print(string.rstrip())  #  \"  Hello, Python World!\""
   ]
  }
 ],
 "metadata": {
  "kernelspec": {
   "display_name": "Python 3 (ipykernel)",
   "language": "python",
   "name": "python3"
  },
  "language_info": {
   "codemirror_mode": {
    "name": "ipython",
    "version": 3
   },
   "file_extension": ".py",
   "mimetype": "text/x-python",
   "name": "python",
   "nbconvert_exporter": "python",
   "pygments_lexer": "ipython3",
   "version": "3.13.1"
  }
 },
 "nbformat": 4,
 "nbformat_minor": 5
}
