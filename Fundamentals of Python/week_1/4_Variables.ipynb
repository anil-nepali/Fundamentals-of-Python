{
 "cells": [
  {
   "cell_type": "code",
   "execution_count": 4,
   "id": "371a76ad-45b6-4fac-b0e6-7185a568e2ef",
   "metadata": {},
   "outputs": [],
   "source": [
    "#Variable:\n",
    "'''\n",
    "   Variable is a container for storing data values.\n",
    "   in python, we don't need to specify the type of variable because\n",
    "   python is a inferred lang and smart enough to get variable type.\n",
    "\n",
    "    Rules for Naming Variable:\n",
    "    we must have to start with a letter or underscore.\n",
    "    Cannot start with a number.\n",
    "    can only contain alphanumeric character(A-Z,a-z,0-9 or _).\n",
    "    python is case-sensitive (var and Var are different).\n",
    "    cannot used reserved keyword(if,else,while.....)\n",
    "'''\n",
    "\n",
    "#Ways of Naming Variable\n",
    "myCollegeName=\"Everest Engineering College\"#Camel Case\n",
    "#in camel case each word except first,Starts with capital\n",
    "MyCollegeName=\"Everest Engineering College\"#Pascal Case\n",
    "#in Pascal case Each word starts with capital\n",
    "my_college_name=\"Everest Engineering College\"#Snake Case\n",
    "#in Snake case each word is separated with capital Underscore"
   ]
  },
  {
   "cell_type": "code",
   "execution_count": 2,
   "id": "932e7348-78a1-425f-8f37-fd1e1de773c4",
   "metadata": {},
   "outputs": [
    {
     "name": "stdout",
     "output_type": "stream",
     "text": [
      "1 2 3\n",
      "0 0 0\n"
     ]
    }
   ],
   "source": [
    "#single assignment\n",
    "x=9\n",
    "y=\"Python\"\n",
    "\n",
    "#Multiple assignment\n",
    "x,y,z=1,2,3\n",
    "print(x,y,z)#1 2 3\n",
    "\n",
    "#Assigning the same value of the multiple variable\n",
    "x=y=z=0\n",
    "print(x,y,z)#0 0 0"
   ]
  },
  {
   "cell_type": "code",
   "execution_count": null,
   "id": "c8d60d70-5ea0-41a1-ac78-1dc90f21a6c5",
   "metadata": {},
   "outputs": [],
   "source": [
    "#Global variable\n",
    "'''\n",
    "    A global variable is created in the main body of the code and can be \n",
    "    used anywhere within the code. \n",
    "    Defined outside the function and accessible through out the program\n",
    "'''\n",
    "#Local Variable\n",
    "'''\n",
    "    The local variable is created with in the function and \n",
    "    accessible only with in that function\n",
    "'''"
   ]
  },
  {
   "cell_type": "code",
   "execution_count": 1,
   "id": "4c36719c-91cc-4ed6-9cf2-d12783249f72",
   "metadata": {},
   "outputs": [
    {
     "name": "stdout",
     "output_type": "stream",
     "text": [
      "Local\n",
      "Global\n",
      "Python is awesome\n"
     ]
    }
   ],
   "source": [
    "x = \"Global\"\n",
    "def update_x():\n",
    "    x=\"Local\"\n",
    "    print(x)#Local\n",
    "update_x()\n",
    "print(x)#Global\n",
    "\n",
    "y=\"java\"\n",
    "def update_y():\n",
    "    z=\" is awesome\"\n",
    "    global y #accessing and modifying the global variable\n",
    "    y=\"Python\"#changing the value of the global variable\n",
    "    print(y +z)\n",
    "update_y() #global variable is updated"
   ]
  }
 ],
 "metadata": {
  "kernelspec": {
   "display_name": "Python 3 (ipykernel)",
   "language": "python",
   "name": "python3"
  },
  "language_info": {
   "codemirror_mode": {
    "name": "ipython",
    "version": 3
   },
   "file_extension": ".py",
   "mimetype": "text/x-python",
   "name": "python",
   "nbconvert_exporter": "python",
   "pygments_lexer": "ipython3",
   "version": "3.13.1"
  }
 },
 "nbformat": 4,
 "nbformat_minor": 5
}
