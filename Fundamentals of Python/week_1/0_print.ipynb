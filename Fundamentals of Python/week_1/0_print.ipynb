{
 "cells": [
  {
   "cell_type": "code",
   "execution_count": 13,
   "id": "08435185-7b8f-47a5-a2ea-c743e7160c8b",
   "metadata": {},
   "outputs": [],
   "source": [
    "# Let's say we have a variable named 'college'\n",
    "college = \"Everest Engineer College\"\n"
   ]
  },
  {
   "cell_type": "code",
   "execution_count": 4,
   "id": "36b2557f-32f9-4444-9971-76d99afb89cb",
   "metadata": {},
   "outputs": [
    {
     "name": "stdout",
     "output_type": "stream",
     "text": [
      "I studied in Everest Engineer College.\n"
     ]
    }
   ],
   "source": [
    "# Method 1: Using string concatenation (the old-school, common way)\n",
    "print(\"I studied in \" + college)"
   ]
  },
  {
   "cell_type": "code",
   "execution_count": 17,
   "id": "2a8fceca-488a-42bd-8703-211c60026690",
   "metadata": {},
   "outputs": [
    {
     "name": "stdout",
     "output_type": "stream",
     "text": [
      "I studied in Everest Engineer College\n",
      "the sum of two numbers 5 and 7 is 12\n"
     ]
    }
   ],
   "source": [
    "# Method 2: Using f-strings (modern and clean way, available in Python 3.6+)\n",
    "print(f\"I studied in {college}\")\n",
    "# This is called an f-string. The variable inside the curly braces {} will be replaced with its value.\n",
    "\n",
    "print(f\"the sum of two numbers 5 and 7 is {5+7}\")"
   ]
  },
  {
   "cell_type": "code",
   "execution_count": 5,
   "id": "51e1abc1-9a71-4a80-8217-c211878ed6a7",
   "metadata": {},
   "outputs": [
    {
     "name": "stdout",
     "output_type": "stream",
     "text": [
      "I studied in Everest Engineer College.\n"
     ]
    }
   ],
   "source": [
    "# Method 3: Using .format() method (used before f-strings were introduced)\n",
    "print(\"I studied in {}\".format(college))\n",
    "# The '{}' is a placeholder. The .format(college) replaces the {} with the value of 'college'.\n",
    "# It's similar to f-strings, just a different syntax."
   ]
  }
 ],
 "metadata": {
  "kernelspec": {
   "display_name": "Python 3 (ipykernel)",
   "language": "python",
   "name": "python3"
  },
  "language_info": {
   "codemirror_mode": {
    "name": "ipython",
    "version": 3
   },
   "file_extension": ".py",
   "mimetype": "text/x-python",
   "name": "python",
   "nbconvert_exporter": "python",
   "pygments_lexer": "ipython3",
   "version": "3.13.1"
  }
 },
 "nbformat": 4,
 "nbformat_minor": 5
}
