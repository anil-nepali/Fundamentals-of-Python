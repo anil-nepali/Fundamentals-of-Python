{
 "cells": [
  {
   "cell_type": "code",
   "execution_count": null,
   "id": "a8d9cb33-f415-46ea-851a-91be95a3c6aa",
   "metadata": {},
   "outputs": [],
   "source": [
    "# Comments in Python are used to explain code and make it more readable.\n",
    "# They are ignored by the Python interpreter during execution.\n",
    "\n",
    "# There are two types of comments in Python:\n",
    "# 1. Single-line Comments\n",
    "# 2. Multi-line Comments\n",
    "\n"
   ]
  },
  {
   "cell_type": "code",
   "execution_count": 3,
   "id": "3b95b4ff-829b-4338-8f4c-3d4e167d4748",
   "metadata": {},
   "outputs": [
    {
     "name": "stdout",
     "output_type": "stream",
     "text": [
      "Single quoted -line comments\n"
     ]
    }
   ],
   "source": [
    "# Single-line Comments:\n",
    "#    Begin with a # symbol.\n",
    "#    Commonly used to explain a single line or a small section of code.\n",
    "print(\"Single quoted -line comments\")  # This prints a message about single-line comments.\n",
    "\n"
   ]
  },
  {
   "cell_type": "code",
   "execution_count": 2,
   "id": "4e6e1fb4-e0e0-4965-b79b-23d345c86a09",
   "metadata": {},
   "outputs": [
    {
     "name": "stdout",
     "output_type": "stream",
     "text": [
      "Triple-quoted comments example\n"
     ]
    }
   ],
   "source": [
    "# Multi-line Comments:\n",
    "#    Use triple quotes (''' or \"\"\") to write multi-line strings\n",
    "#    that are not assigned to a variable. These act as multi-line comments.\n",
    "\"\"\"\n",
    "This is an example of a multi-line comment.\n",
    "It uses triple quotes, which are technically multi-line strings,\n",
    "but they are treated as comments when not assigned to any variable.\n",
    "\"\"\"\n",
    "print(\"Triple-quoted comments example\")"
   ]
  }
 ],
 "metadata": {
  "kernelspec": {
   "display_name": "Python 3 (ipykernel)",
   "language": "python",
   "name": "python3"
  },
  "language_info": {
   "codemirror_mode": {
    "name": "ipython",
    "version": 3
   },
   "file_extension": ".py",
   "mimetype": "text/x-python",
   "name": "python",
   "nbconvert_exporter": "python",
   "pygments_lexer": "ipython3",
   "version": "3.13.1"
  }
 },
 "nbformat": 4,
 "nbformat_minor": 5
}
