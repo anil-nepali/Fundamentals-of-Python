{
 "cells": [
  {
   "cell_type": "code",
   "execution_count": 1,
   "id": "2ad9d7e2-00ca-4a98-bef6-74016af23aab",
   "metadata": {},
   "outputs": [
    {
     "name": "stdout",
     "output_type": "stream",
     "text": [
      "3\n",
      "123\n",
      "False\n",
      "['1', '2', '3']\n",
      "3.2 <class 'float'>\n"
     ]
    }
   ],
   "source": [
    "#Type Casting\n",
    "'''\n",
    "    The conversion of one data type into other data type is known as type casting.\n",
    "    There are two types of type casting:\n",
    "    Explict Typecasting                     Implict Typecasting\n",
    "    initiated by programmer                 initiated by Python\n",
    "    syntax required(int(),str())            Not any syntax required\n",
    "    Can raise error(i.e invalid conversion) No error in valid operation\n",
    "    possibility of data loss                No data loss\n",
    "\n",
    "'''\n",
    "\n",
    "#Explict Type Conversion\n",
    "float_num=3.14\n",
    "int_num=int(float_num)\n",
    "print(int_num)  #3\n",
    "\n",
    "num=123\n",
    "string_num=str(num)\n",
    "print(string_num)  #123\n",
    "\n",
    "value=0\n",
    "bool_value=bool(value)\n",
    "print(bool_value)   #False\n",
    "\n",
    "string = \"123\"\n",
    "string_list = list(string)  \n",
    "print(string_list) #['1', '2', '3']\n",
    "\n",
    "\n",
    "#Implict conversion\n",
    "a=2\n",
    "b=1.2\n",
    "print(a+b,type(a+b))  #3.2 <class 'float'>\n",
    "\n",
    "\n",
    "\n",
    "\n"
   ]
  }
 ],
 "metadata": {
  "kernelspec": {
   "display_name": "Python 3 (ipykernel)",
   "language": "python",
   "name": "python3"
  },
  "language_info": {
   "codemirror_mode": {
    "name": "ipython",
    "version": 3
   },
   "file_extension": ".py",
   "mimetype": "text/x-python",
   "name": "python",
   "nbconvert_exporter": "python",
   "pygments_lexer": "ipython3",
   "version": "3.13.1"
  }
 },
 "nbformat": 4,
 "nbformat_minor": 5
}
