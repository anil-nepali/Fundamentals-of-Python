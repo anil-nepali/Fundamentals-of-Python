{
 "cells": [
  {
   "cell_type": "code",
   "execution_count": 3,
   "id": "600bc837-ad32-4e6e-978c-1bb129b53452",
   "metadata": {},
   "outputs": [
    {
     "name": "stdout",
     "output_type": "stream",
     "text": [
      "Ninety-nine is greater than 9!\n"
     ]
    }
   ],
   "source": [
    "# Python Syntax\n",
    "\"\"\" it defines the set of rules that you must follow \n",
    "    to write valid Python programs.\"\"\"\n",
    "\n",
    "# Python Indentation:\n",
    "\"\"\" Indentation refers to the space at the beginning of a line that indicates a block of code.\n",
    "    Python uses indentation to define code blocks (e.g., inside loops, conditions, and functions).\n",
    "    Standard practice: Use **4 spaces** per indentation level.\"\"\"\n",
    "\n",
    "# In Python, there is no need for semicolons (;) or curly braces ({}).\n",
    "# Python is case-sensitive, e.g., 'Var' and 'var' are different.\n",
    "\n",
    "# Missing indentation (will raise an error):\n",
    "#if 99 > 9:\n",
    "#print(\"Ninety-nine is greater than 9!\")\n",
    "# IndentationError: expected an indented block after 'if' statement.\n",
    "\n",
    "# Incorrect indentation (still gives an error because only 1 space is used instead of 4):\n",
    "#if 99 > 9:\n",
    "# print(\"Ninety-nine is greater than 9!\")\n",
    "\n",
    "# Proper indentation (correct code):\n",
    "if 99 > 9:\n",
    "    print(\"Ninety-nine is greater than 9!\")\n",
    "#o/p=Ninety-nine is greater than 9!"
   ]
  }
 ],
 "metadata": {
  "kernelspec": {
   "display_name": "Python 3 (ipykernel)",
   "language": "python",
   "name": "python3"
  },
  "language_info": {
   "codemirror_mode": {
    "name": "ipython",
    "version": 3
   },
   "file_extension": ".py",
   "mimetype": "text/x-python",
   "name": "python",
   "nbconvert_exporter": "python",
   "pygments_lexer": "ipython3",
   "version": "3.13.1"
  }
 },
 "nbformat": 4,
 "nbformat_minor": 5
}
