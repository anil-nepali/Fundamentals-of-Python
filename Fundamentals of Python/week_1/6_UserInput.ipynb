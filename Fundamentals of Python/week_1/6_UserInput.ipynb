{
 "cells": [
  {
   "cell_type": "code",
   "execution_count": 2,
   "id": "e9038492-67d4-4edc-b251-faca6d12e7cd",
   "metadata": {},
   "outputs": [
    {
     "name": "stdin",
     "output_type": "stream",
     "text": [
      "Enter your Name: alka\n"
     ]
    },
    {
     "name": "stdout",
     "output_type": "stream",
     "text": [
      "Welcome to Python coding alka\n"
     ]
    },
    {
     "name": "stdin",
     "output_type": "stream",
     "text": [
      "Enter the first number: 99\n",
      "Enter  the second number: 00\n"
     ]
    },
    {
     "name": "stdout",
     "output_type": "stream",
     "text": [
      "9900\n",
      "99\n"
     ]
    }
   ],
   "source": [
    "#Taking user form input\n",
    "'''\n",
    "    In python we cand take user input directly by using\n",
    "    input() function.\n",
    "'''\n",
    "\n",
    "name=input(\"Enter your Name:\")\n",
    "print(\"Welcome to Python coding \"+name)\n",
    "''' Output\n",
    "    Enter your Name:Anil\n",
    "    Welcome to Python coding Anil\n",
    "'''\n",
    "\n",
    "x=input(\"Enter the first number:\")\n",
    "y=input(\"Enter  the second number:\")\n",
    "print(x+y)  #this concat\n",
    "print(int(x)+int(y)) #this add\n",
    "\n",
    "\n",
    "#input() always gives a string so ,whenever we need mathematical expression we\n",
    "#have to convert it from string"
   ]
  }
 ],
 "metadata": {
  "kernelspec": {
   "display_name": "Python 3 (ipykernel)",
   "language": "python",
   "name": "python3"
  },
  "language_info": {
   "codemirror_mode": {
    "name": "ipython",
    "version": 3
   },
   "file_extension": ".py",
   "mimetype": "text/x-python",
   "name": "python",
   "nbconvert_exporter": "python",
   "pygments_lexer": "ipython3",
   "version": "3.13.1"
  }
 },
 "nbformat": 4,
 "nbformat_minor": 5
}
