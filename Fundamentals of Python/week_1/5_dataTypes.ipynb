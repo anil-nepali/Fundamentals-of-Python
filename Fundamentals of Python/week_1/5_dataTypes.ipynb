{
 "cells": [
  {
   "cell_type": "code",
   "execution_count": 3,
   "id": "4c8c6042-9e69-4177-b483-5c66827e1f07",
   "metadata": {},
   "outputs": [
    {
     "name": "stdout",
     "output_type": "stream",
     "text": [
      "The type of 10 is <class 'int'>\n",
      "The type of 8.8 is <class 'float'>\n",
      "The type of (10+8.8j) is <class 'complex'>\n",
      "The type of My Name is <class 'str'>\n",
      "The type of True is <class 'bool'>\n"
     ]
    },
    {
     "data": {
      "text/plain": [
       "\"\\n    The type of 10 is <class 'int'>\\n    The type of 8.8 is <class 'float'>\\n    The type of (10+8.8j) is <class 'complex'>\\n    The type of My Name is <class 'str'>\\n    The type of True is <class 'bool'>\\n\""
      ]
     },
     "execution_count": 3,
     "metadata": {},
     "output_type": "execute_result"
    }
   ],
   "source": [
    "#Datatypes in python\n",
    "'''\n",
    "    Data Types specifies the type of value a variable\n",
    "    requires to do various operations without causing error.\n",
    "    By default,python provides the datatypes\n",
    "'''\n",
    "#numeric data types\n",
    "a=10#int data type\n",
    "b=8.8#float data type\n",
    "c=complex(a,b)#complex data type\n",
    "\n",
    "#text data type\n",
    "d=\"My Name\"#string data type\n",
    "\n",
    "#boolean data type\n",
    "e=True#boolean data type\n",
    "\n",
    "print(f\"The type of {a} is\",type(a))\n",
    "print(f\"The type of {b} is\",type(b))\n",
    "print(f\"The type of {c} is\",type(c))\n",
    "print(f\"The type of {d} is\",type(d))\n",
    "print(f\"The type of {e} is\",type(e))\n",
    "'''\n",
    "    The type of 10 is <class 'int'>\n",
    "    The type of 8.8 is <class 'float'>\n",
    "    The type of (10+8.8j) is <class 'complex'>\n",
    "    The type of My Name is <class 'str'>\n",
    "    The type of True is <class 'bool'>\n",
    "'''\n",
    "\n",
    "\n",
    "\n"
   ]
  },
  {
   "cell_type": "code",
   "execution_count": 1,
   "id": "a951135a-89dd-4bf8-9107-eb31ea8bdc5c",
   "metadata": {},
   "outputs": [
    {
     "name": "stdout",
     "output_type": "stream",
     "text": [
      "[99, 'Anil']\n",
      "<class 'list'>\n",
      "Anil\n"
     ]
    }
   ],
   "source": [
    "#sequential data type :List,Tupple and Range\n",
    "#List\n",
    "\"\"\" It is an ordered collection of data with elements separated by commas\n",
    "   and enclose with in sequence brackets\n",
    "   List are mutuable data type\"\"\"\n",
    "\n",
    "a=[99,\"Anil\"]\n",
    "print(a)       #[99, 'Anil']\n",
    "print(type(a)) #<class 'list'>\n",
    "\n",
    "#print(a[1])\n",
    "\n",
    "\n"
   ]
  },
  {
   "cell_type": "code",
   "execution_count": 8,
   "id": "55a4eea4-69ee-4a59-8c59-a9cf24e59897",
   "metadata": {},
   "outputs": [
    {
     "name": "stdout",
     "output_type": "stream",
     "text": [
      "('Bajhipur-4', ' Bhingri')\n",
      "<class 'tuple'>\n"
     ]
    }
   ],
   "source": [
    "\n",
    "#Tupple\n",
    "'''\n",
    "    it is an ordered collection of data with elements separated by a commas\n",
    "    and enclosed with in paranthesis\n",
    "    They are immutable and cannot be modified after creation.\n",
    "'''\n",
    "b=('Bajhipur-4',' Bhingri')\n",
    "print(b)       #('Bajhipur-4', ' Bhingri')\n",
    "print(type(b)) #<class 'tuple'>"
   ]
  },
  {
   "cell_type": "code",
   "execution_count": 9,
   "id": "a9144493-55c6-4f02-9890-5cbec6c3a414",
   "metadata": {},
   "outputs": [
    {
     "name": "stdout",
     "output_type": "stream",
     "text": [
      "4\n",
      "6\n",
      "8\n",
      "10\n",
      "<class 'range'>\n"
     ]
    }
   ],
   "source": [
    "\n",
    "#Range\n",
    "'''\n",
    "    it return a sequence of number by the user.\n",
    "    if not then specified by the user then start from 0 by default\n",
    "    and incremented by 1.\n",
    "    and enclosed with parenthesis\n",
    "'''\n",
    "sequence_1=range(4,12,2)\n",
    "for i in sequence_1:\n",
    "    print(i) #4 6 8 10\n",
    "print(type(sequence_1)) #<class 'range'>"
   ]
  },
  {
   "cell_type": "code",
   "execution_count": 10,
   "id": "246725d8-91d7-4db1-8064-88d449ca928b",
   "metadata": {},
   "outputs": [
    {
     "name": "stdout",
     "output_type": "stream",
     "text": [
      "{8, 'My Roll Number'}\n",
      "<class 'set'>\n"
     ]
    }
   ],
   "source": [
    "\n",
    "#Set data type\n",
    "#set\n",
    "'''\n",
    "    set is an unordered collection of elements in which no element is repeated\n",
    "    The elements of sets are separated by a commas and \n",
    "    contained within curly braces\n",
    "'''\n",
    "c={8,'My Roll Number'}\n",
    "print(c)      #{8, 'My Roll Number'}\n",
    "print(type(c))#<class 'set'>"
   ]
  },
  {
   "cell_type": "code",
   "execution_count": 11,
   "id": "4a70d187-e514-4359-b931-18c48d1421a4",
   "metadata": {},
   "outputs": [
    {
     "name": "stdout",
     "output_type": "stream",
     "text": [
      "{'name': 'Anil Nepali', 'age': 21, 'CanVote': True}\n"
     ]
    }
   ],
   "source": [
    "#mapped data type\n",
    "#dict\n",
    "'''\n",
    "    A dictionary is an unordered collection of data containing a\n",
    "    key: value pair\n",
    "    The values are enclose within curly brackets    \n",
    "'''\n",
    "\n",
    "dict_1={\n",
    "    \"name\":'Anil Nepali',\n",
    "    \"age\":21,\n",
    "    \"CanVote\":True\n",
    "}\n",
    "\n",
    "print(dict_1)"
   ]
  },
  {
   "cell_type": "code",
   "execution_count": 4,
   "id": "23c3a766-9a4c-495b-a5c1-6b817214754f",
   "metadata": {},
   "outputs": [
    {
     "name": "stdout",
     "output_type": "stream",
     "text": [
      "b'Python is interesting'\n",
      "<class 'bytes'>\n"
     ]
    },
    {
     "data": {
      "text/plain": [
       "'utf-8(unicode transformation Format) and 8 means 8 bit value are use in encoding'"
      ]
     },
     "execution_count": 4,
     "metadata": {},
     "output_type": "execute_result"
    }
   ],
   "source": [
    "#bytes\n",
    "'''\n",
    "    bytes() method returns an immutable bytes object by initialized with \n",
    "    the given size and data.\n",
    "'''\n",
    "str = \"Python is interesting\"\n",
    "arr = bytes(str,'utf-8')\n",
    "print(arr)      #b'Python is interesting'\n",
    "print(type(arr))#<class 'bytes'>\n",
    "\n",
    "'''utf-8(unicode transformation Format) and 8 means 8 bit value are use in encoding'''"
   ]
  }
 ],
 "metadata": {
  "kernelspec": {
   "display_name": "Python 3 (ipykernel)",
   "language": "python",
   "name": "python3"
  },
  "language_info": {
   "codemirror_mode": {
    "name": "ipython",
    "version": 3
   },
   "file_extension": ".py",
   "mimetype": "text/x-python",
   "name": "python",
   "nbconvert_exporter": "python",
   "pygments_lexer": "ipython3",
   "version": "3.13.1"
  }
 },
 "nbformat": 4,
 "nbformat_minor": 5
}
