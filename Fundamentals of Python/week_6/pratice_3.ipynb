{
 "cells": [
  {
   "cell_type": "code",
   "execution_count": 8,
   "id": "e5c30d8c-3ae4-42a9-9128-c0423f9b4478",
   "metadata": {},
   "outputs": [
    {
     "name": "stdout",
     "output_type": "stream",
     "text": [
      "The file does not exist.\n"
     ]
    }
   ],
   "source": [
    "\n",
    "#1. Write a Python Program to read the contents of a text file named data.taxt \n",
    "#and print each line to the console. Handle the case where the file does not exist using a try-except block.\n",
    "\n",
    "try:\n",
    "  f = open(\"data.txt\",\"r\")\n",
    "  for x in f:\n",
    "    print(x)\n",
    "  f.close()\n",
    "except FileNotFoundError:\n",
    "  print(\"The file does not exist.\")\n",
    "     \n",
    "\n"
   ]
  },
  {
   "cell_type": "code",
   "execution_count": 1,
   "id": "0dd82b32-0280-4752-8c7d-662fb8dea27e",
   "metadata": {},
   "outputs": [
    {
     "name": "stdin",
     "output_type": "stream",
     "text": [
      "Enter your name:  anil\n"
     ]
    }
   ],
   "source": [
    "\n",
    "#2. Create a Python program that prompts the user to enter their name and saves it to a file called user.txt. \n",
    "#Include exception handling to manage potential errors during file writing.\n",
    "\n",
    "try:\n",
    "  with open(\"user.txt\",\"w\") as f:\n",
    "    name = input(\"Enter your name: \")\n",
    "    f.write(name)\n",
    "except Exception as e:\n",
    "  print(e)\n",
    "     "
   ]
  },
  {
   "cell_type": "code",
   "execution_count": 3,
   "id": "2795d70c-1bd6-4593-8099-239b5bbb2d0f",
   "metadata": {},
   "outputs": [
    {
     "name": "stdout",
     "output_type": "stream",
     "text": [
      "The file contains 160 words.\n"
     ]
    }
   ],
   "source": [
    "#3. Write a Python program to read a file named story.txt and count the number of words in it. \n",
    "#Handle the case where the file is mising. Assume words are separated by spaces.\n",
    "\n",
    "try:\n",
    "  with open(\"story.txt\",\"r\") as f:\n",
    "    content = f.read()\n",
    "    words = content.split()\n",
    "    print(f\"The file contains {len(words)} words.\")\n",
    "except FileNotFoundError:\n",
    "  print(\"The file does not exist.\")"
   ]
  },
  {
   "cell_type": "code",
   "execution_count": 6,
   "id": "bcba6b0c-61b6-4eb4-8097-f765e539fbc5",
   "metadata": {},
   "outputs": [
    {
     "name": "stdin",
     "output_type": "stream",
     "text": [
      "Enter a line of text:  The above 3 rd file contains 160 words is song lyrics of coldplay paradise\n"
     ]
    },
    {
     "data": {
      "text/plain": [
       "'......\\nPara-para-paradise\\nThis could be para-para-paradise\\n(Oh-oh-oh-oh-oh, oh-oh)The above 3 rd file contains 160 words is song lyrics of coldplay paradise\\n'"
      ]
     },
     "execution_count": 6,
     "metadata": {},
     "output_type": "execute_result"
    }
   ],
   "source": [
    "#4. Write a Python program that asks the user for a line of text and appends it to an existing \n",
    "#file named story.txt. If the file doesn't exist, create it. Use exception handling to manage errors.\n",
    "\n",
    "try:\n",
    "  with open(\"story.txt\",\"a\") as f:\n",
    "    line = input(\"Enter a line of text: \")\n",
    "    f.write(line+\"\\n\")\n",
    "except Exception as e:\n",
    "  print(e)\n",
    "\n",
    "\n",
    "\n",
    "\n",
    "\"\"\"......\n",
    "Para-para-paradise\n",
    "This could be para-para-paradise\n",
    "(Oh-oh-oh-oh-oh, oh-oh)The above 3 rd file contains 160 words is song lyrics of coldplay paradise\n",
    "\"\"\"\n",
    "     "
   ]
  },
  {
   "cell_type": "code",
   "execution_count": 7,
   "id": "47af0284-2a46-42be-a53c-a0e6cb866b4a",
   "metadata": {},
   "outputs": [
    {
     "name": "stdout",
     "output_type": "stream",
     "text": [
      "The file contains non-numeric data.\n"
     ]
    }
   ],
   "source": [
    "#5. Create a python program that reads a file named numbers.txt containing one number per line.\n",
    "#Calculate the sum of these numbers and print it. Handle cases where the file is missing or contains non-numeric data.\n",
    "\n",
    "try:\n",
    "  with open(\"story.txt\",\"r\") as f:\n",
    "    sum = 0\n",
    "    for x in f:\n",
    "      sum += int(x)\n",
    "    print(f\"The sum of the numbers in the file is {sum}.\")\n",
    "except FileNotFoundError:\n",
    "  print(\"The file does not exist.\")\n",
    "except ValueError:\n",
    "  print(\"The file contains non-numeric data.\")\n",
    "\n"
   ]
  }
 ],
 "metadata": {
  "kernelspec": {
   "display_name": "Python 3 (ipykernel)",
   "language": "python",
   "name": "python3"
  },
  "language_info": {
   "codemirror_mode": {
    "name": "ipython",
    "version": 3
   },
   "file_extension": ".py",
   "mimetype": "text/x-python",
   "name": "python",
   "nbconvert_exporter": "python",
   "pygments_lexer": "ipython3",
   "version": "3.13.1"
  }
 },
 "nbformat": 4,
 "nbformat_minor": 5
}
