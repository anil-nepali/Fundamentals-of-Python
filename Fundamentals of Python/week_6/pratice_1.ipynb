{
 "cells": [
  {
   "cell_type": "raw",
   "id": "ad811c62-70ac-41a6-a5bd-a66a9be9d9c5",
   "metadata": {},
   "source": [
    "# Some Python Programs"
   ]
  },
  {
   "cell_type": "code",
   "execution_count": 8,
   "id": "c5125a19-936d-4d76-8c32-a3ae015c6f0b",
   "metadata": {},
   "outputs": [
    {
     "name": "stdin",
     "output_type": "stream",
     "text": [
      "Enter your birth year:  2003\n"
     ]
    },
    {
     "name": "stdout",
     "output_type": "stream",
     "text": [
      "Your age is 22.\n"
     ]
    }
   ],
   "source": [
    "\n",
    "# Age Calculator\n",
    "\n",
    "import datetime\n",
    "\n",
    "birth_year = int(input(\"Enter your birth year: \"))\n",
    "this_year = datetime.datetime.now().year\n",
    "age = this_year - birth_year\n",
    "print(f\"Your age is {age}.\")\n",
    "\n",
    "\n"
   ]
  },
  {
   "cell_type": "code",
   "execution_count": 1,
   "id": "71a1da91-279b-491e-976c-d62402fae39e",
   "metadata": {},
   "outputs": [
    {
     "name": "stdin",
     "output_type": "stream",
     "text": [
      "Enter the amount:  1000000\n",
      "Enter the interest rate:  24\n",
      "Enter the number of years:  1\n"
     ]
    },
    {
     "name": "stdout",
     "output_type": "stream",
     "text": [
      "The simple interest is 240000.0.\n"
     ]
    }
   ],
   "source": [
    "# Simple Interest Calculator\n",
    "\n",
    "amount = float(input(\"Enter the amount: \"))\n",
    "interest = float(input(\"Enter the interest rate: \"))\n",
    "years = int(input(\"Enter the number of years: \"))\n",
    "simple_interest = (amount * interest * years) / 100\n",
    "print(f\"The simple interest is {simple_interest}.\")"
   ]
  },
  {
   "cell_type": "code",
   "execution_count": 3,
   "id": "63d89c73-052f-4889-91d9-4d47cadcc20f",
   "metadata": {},
   "outputs": [
    {
     "name": "stdin",
     "output_type": "stream",
     "text": [
      "Enter your weight in kg:  49\n",
      "Enter your height in meters:  3\n"
     ]
    },
    {
     "name": "stdout",
     "output_type": "stream",
     "text": [
      "\n",
      "Your BMI is 5.444444444444445.\n",
      "You are underweight.\n"
     ]
    }
   ],
   "source": [
    "# BMI Calculator\n",
    "\n",
    "weight = float(input(\"Enter your weight in kg: \"))\n",
    "height = float(input(\"Enter your height in meters: \"))\n",
    "bmi = weight / (height ** 2)\n",
    "print(f\"\\nYour BMI is {bmi}.\")\n",
    "\n",
    "if bmi < 18.5:\n",
    "  print(\"You are underweight.\")\n",
    "elif bmi >= 18.5 and bmi < 25:\n",
    "  print(\"You are normal.\")\n",
    "elif bmi >= 25 and bmi < 30:\n",
    "  print(\"You are overweight.\")\n",
    "else:\n",
    "  print(\"You are obese.\")\n",
    "    "
   ]
  },
  {
   "cell_type": "code",
   "execution_count": 5,
   "id": "7104eae6-f9de-4339-87d1-04597d8447c7",
   "metadata": {},
   "outputs": [
    {
     "name": "stdin",
     "output_type": "stream",
     "text": [
      "Enter an amount in Nepali Rupees:  10394\n"
     ]
    },
    {
     "name": "stdout",
     "output_type": "stream",
     "text": [
      "The amount in US Dollars is 78.74.\n"
     ]
    }
   ],
   "source": [
    "# Currency Converter\n",
    "nrs = float(input(\"Enter an amount in Nepali Rupees: \"))\n",
    "exchange_rate = 132\n",
    "usd = nrs / exchange_rate\n",
    "print(f\"The amount in US Dollars is {usd:.2f}.\")\n",
    "\n"
   ]
  }
 ],
 "metadata": {
  "kernelspec": {
   "display_name": "Python 3 (ipykernel)",
   "language": "python",
   "name": "python3"
  },
  "language_info": {
   "codemirror_mode": {
    "name": "ipython",
    "version": 3
   },
   "file_extension": ".py",
   "mimetype": "text/x-python",
   "name": "python",
   "nbconvert_exporter": "python",
   "pygments_lexer": "ipython3",
   "version": "3.13.1"
  }
 },
 "nbformat": 4,
 "nbformat_minor": 5
}
