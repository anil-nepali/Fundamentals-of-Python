{
 "cells": [
  {
   "cell_type": "code",
   "execution_count": 15,
   "id": "79577287-5d88-4d95-9bdf-524c947787c4",
   "metadata": {},
   "outputs": [
    {
     "name": "stdout",
     "output_type": "stream",
     "text": [
      "0.49999999999999994\n"
     ]
    }
   ],
   "source": [
    "#Import math and calculate sine of 30 degrees using math.sin(math.radians(30)).\n",
    "\n",
    "\n",
    "import math\n",
    "\n",
    "print(math.sin(math.radians(30)))\n",
    "     "
   ]
  },
  {
   "cell_type": "code",
   "execution_count": 1,
   "id": "e2120940-f63b-4dc5-9a0f-be47a6cc8a61",
   "metadata": {},
   "outputs": [
    {
     "name": "stdout",
     "output_type": "stream",
     "text": [
      "53\n"
     ]
    }
   ],
   "source": [
    "#Import random as rng and generate a random integer between 50-75.\n",
    "\n",
    "import random as rng\n",
    "\n",
    "raandom_number = rng.randint(50,75)\n",
    "print(raandom_number)"
   ]
  },
  {
   "cell_type": "code",
   "execution_count": 14,
   "id": "f6acf741-ee83-4604-9788-4761405a041e",
   "metadata": {},
   "outputs": [],
   "source": [
    "#Create calc.py with square function, import and print square of 8."
   ]
  },
  {
   "cell_type": "code",
   "execution_count": 12,
   "id": "32ac7649-6167-4c93-bc29-40a33b4af1ef",
   "metadata": {},
   "outputs": [
    {
     "name": "stdout",
     "output_type": "stream",
     "text": [
      "Writing calc.py\n"
     ]
    }
   ],
   "source": [
    "%%writefile calc.py\n",
    "\n",
    "def square(num):\n",
    "    return num * num\n"
   ]
  },
  {
   "cell_type": "code",
   "execution_count": 13,
   "id": "f5ebd0da-b5e5-49fb-9169-ee60f1c416f3",
   "metadata": {},
   "outputs": [
    {
     "name": "stdout",
     "output_type": "stream",
     "text": [
      "64\n"
     ]
    }
   ],
   "source": [
    "\n",
    "import calc\n",
    "\n",
    "print(calc.square(8))"
   ]
  },
  {
   "cell_type": "code",
   "execution_count": 9,
   "id": "c4a809c7-72d6-44a9-b6f1-15c90ef6a378",
   "metadata": {},
   "outputs": [
    {
     "name": "stdout",
     "output_type": "stream",
     "text": [
      "Mango\n"
     ]
    }
   ],
   "source": [
    "#Import choice from random, pick from fruits list [\"Mango\",\"Apple\",\"Grape\"].\n",
    "\n",
    "\n",
    "from random import choice\n",
    "\n",
    "fruits = [\"Mango\", \"Apple\", \"Grape\"]\n",
    "random_choice = choice(fruits)\n",
    "print(random_choice)\n",
    "     "
   ]
  }
 ],
 "metadata": {
  "kernelspec": {
   "display_name": "Python 3 (ipykernel)",
   "language": "python",
   "name": "python3"
  },
  "language_info": {
   "codemirror_mode": {
    "name": "ipython",
    "version": 3
   },
   "file_extension": ".py",
   "mimetype": "text/x-python",
   "name": "python",
   "nbconvert_exporter": "python",
   "pygments_lexer": "ipython3",
   "version": "3.13.1"
  }
 },
 "nbformat": 4,
 "nbformat_minor": 5
}
