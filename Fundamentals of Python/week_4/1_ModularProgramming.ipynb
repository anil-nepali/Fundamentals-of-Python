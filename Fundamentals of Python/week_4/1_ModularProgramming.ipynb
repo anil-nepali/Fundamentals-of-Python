{
 "cells": [
  {
   "cell_type": "code",
   "execution_count": null,
   "id": "f97771be-6f62-4820-9757-58d0325b1f18",
   "metadata": {},
   "outputs": [],
   "source": [
    "#Modular programming\n",
    "\"\"\"\n",
    "    Module is a file that contains python code.\n",
    "    we use import\n",
    "    \n",
    "    Modular programming is the pratice of breaking program into\n",
    "    independent, Manageable and reusable parts(modules).\n",
    "\n",
    "    Each module specific task or feature\n",
    "\n",
    "    using modular programming it encourages collaborative development.\n",
    "\n",
    "    Basically there are Three types of modules:\n",
    "    1.Built-in Module\n",
    "        Already comes with python(eg: math, os, random)\n",
    "\n",
    "    2.External Module\n",
    "        Need to be installed(eg:Numpy, Pandas)\n",
    "    3.User defined Module\n",
    "        created by you for specific purpose\n",
    "\n",
    "\n",
    "     Function = Reusable code block perform for specific task\n",
    "     \n",
    "     Module = File that groups related functions and code\n",
    "\"\"\""
   ]
  },
  {
   "cell_type": "code",
   "execution_count": 1,
   "id": "aff861bb-a7a7-467f-908f-4c7f71116045",
   "metadata": {},
   "outputs": [
    {
     "name": "stdout",
     "output_type": "stream",
     "text": [
      "3\n"
     ]
    }
   ],
   "source": [
    "import random \n",
    "print(random.randint(1,7))\n",
    "\n",
    "#print(help(\"modules\"))\n",
    "#print(help(\"math\"))"
   ]
  },
  {
   "cell_type": "code",
   "execution_count": 2,
   "id": "e42361d7-f311-4bb5-b509-edf0e8ba1cac",
   "metadata": {},
   "outputs": [
    {
     "name": "stdout",
     "output_type": "stream",
     "text": [
      "0.3673710198646155\n",
      "20.085337200923327\n"
     ]
    }
   ],
   "source": [
    "import random as rdn\n",
    "random_float = rdn.random()\n",
    "print(random_float)\n",
    "\n",
    "random_float_in_range=rdn.uniform(10.5,30.5)\n",
    "print(random_float_in_range)"
   ]
  },
  {
   "cell_type": "code",
   "execution_count": 3,
   "id": "87ad5722-d8d2-451c-8651-b40e224b8568",
   "metadata": {},
   "outputs": [
    {
     "name": "stdout",
     "output_type": "stream",
     "text": [
      "Writing helperrr.py\n"
     ]
    }
   ],
   "source": [
    "\n",
    "%%writefile helperrr.py\n",
    "def add_numbers(a,b):\n",
    "  return a+b\n",
    "def subtract(a,b):\n",
    "  return a-b\n",
    "def divisor(a,b):\n",
    "  return a/b\n"
   ]
  },
  {
   "cell_type": "code",
   "execution_count": 4,
   "id": "b2a63372-8f82-45eb-b861-fb5572fa2d4f",
   "metadata": {},
   "outputs": [
    {
     "name": "stdout",
     "output_type": "stream",
     "text": [
      "The addition between these numbers is:12\n",
      "The subtraction between these numbers is:5\n",
      "The division between these numbers is:2.0\n"
     ]
    }
   ],
   "source": [
    "import helperrr\n",
    "add=helperrr.add_numbers(3,9)\n",
    "print(f\"The addition between these numbers is:{add}\")\n",
    "\n",
    "sub=helperrr.subtract(10,5)\n",
    "print(f\"The subtraction between these numbers is:{sub}\")\n",
    "\n",
    "div=helperrr.divisor(10,5)\n",
    "print(f\"The division between these numbers is:{div}\")\n"
   ]
  },
  {
   "cell_type": "code",
   "execution_count": 5,
   "id": "84288ac3-c716-49d1-a22c-0186cf5cdc74",
   "metadata": {},
   "outputs": [
    {
     "name": "stdout",
     "output_type": "stream",
     "text": [
      "6\n",
      "27.0\n",
      "The Flooring of 3.7 is: 3\n",
      "The Ceiling of 3.7 is: 4\n"
     ]
    }
   ],
   "source": [
    "import math\n",
    "print(int(math.sqrt(36)))\n",
    "\n",
    "print(math.pow(3,3))\n",
    "\n",
    "floor = math.floor(3.7)\n",
    "print(\"The Flooring of 3.7 is:\",floor)\n",
    "\n",
    "ceiling =math.ceil(3.7)\n",
    "print(\"The Ceiling of 3.7 is:\",ceiling)"
   ]
  },
  {
   "cell_type": "code",
   "execution_count": 6,
   "id": "1cf5cc88-7173-441e-96c2-5cb361d81938",
   "metadata": {},
   "outputs": [
    {
     "name": "stdout",
     "output_type": "stream",
     "text": [
      "2\n",
      "1\n",
      "6\n"
     ]
    }
   ],
   "source": [
    "\n",
    "import statistics\n",
    "print(statistics.mean([1,2,3]))\n",
    "print(statistics.mode([1,2,3,4,5]))\n",
    "print(statistics.median([4,5,6,7,9]))"
   ]
  },
  {
   "cell_type": "code",
   "execution_count": 7,
   "id": "545ea6df-b45b-4b10-823d-dd5ff247f914",
   "metadata": {},
   "outputs": [
    {
     "name": "stdout",
     "output_type": "stream",
     "text": [
      "[1, 2, 3, 4, 5]\n",
      "[1, 2, 3, 4, 5]\n"
     ]
    }
   ],
   "source": [
    "\n",
    "#variable alasing\n",
    "a=[1,2,3,4]\n",
    "b=a\n",
    "b.append(5)\n",
    "print(a)\n",
    "print(b)"
   ]
  },
  {
   "cell_type": "code",
   "execution_count": 8,
   "id": "404ba184-ba1e-4e06-83ce-dbcfcaacba05",
   "metadata": {},
   "outputs": [
    {
     "name": "stdout",
     "output_type": "stream",
     "text": [
      "25\n"
     ]
    }
   ],
   "source": [
    "#function alasing\n",
    "def square(x):\n",
    "    return x * x\n",
    "\n",
    "# Alias\n",
    "sq = square\n",
    "\n",
    "print(sq(5))  # Output: 25\n"
   ]
  },
  {
   "cell_type": "code",
   "execution_count": 9,
   "id": "e5750aed-cc41-4fa5-b325-88056877c4aa",
   "metadata": {},
   "outputs": [
    {
     "name": "stdout",
     "output_type": "stream",
     "text": [
      "[40, 10, 30, 20]\n"
     ]
    }
   ],
   "source": [
    "from random import shuffle\n",
    "\n",
    "lst=[10,20,30,40]\n",
    "rdn.shuffle(lst)\n",
    "print(lst)"
   ]
  }
 ],
 "metadata": {
  "kernelspec": {
   "display_name": "Python 3 (ipykernel)",
   "language": "python",
   "name": "python3"
  },
  "language_info": {
   "codemirror_mode": {
    "name": "ipython",
    "version": 3
   },
   "file_extension": ".py",
   "mimetype": "text/x-python",
   "name": "python",
   "nbconvert_exporter": "python",
   "pygments_lexer": "ipython3",
   "version": "3.13.1"
  }
 },
 "nbformat": 4,
 "nbformat_minor": 5
}
