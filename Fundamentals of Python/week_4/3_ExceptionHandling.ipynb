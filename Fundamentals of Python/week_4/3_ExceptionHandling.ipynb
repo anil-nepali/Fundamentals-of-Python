{
 "cells": [
  {
   "cell_type": "code",
   "execution_count": null,
   "id": "c3381c8c-87f7-42af-aafc-041a5d41e33f",
   "metadata": {},
   "outputs": [],
   "source": [
    "#Exceptions\n",
    "\"\"\"\n",
    "    Unwanted events that disrupt program flow during execution.\n",
    "\"\"\""
   ]
  },
  {
   "cell_type": "code",
   "execution_count": null,
   "id": "9fcd92a3-2996-4807-8103-6d1790ac91e2",
   "metadata": {},
   "outputs": [],
   "source": [
    "#Exception Handling\n",
    "\"\"\"\n",
    "    Exception Handling handles errors that occur during the execution of a program. \n",
    "    Exception handling allows to respond to the error,\n",
    "    instead of crashing the running program\n",
    "\"\"\""
   ]
  },
  {
   "cell_type": "code",
   "execution_count": 1,
   "id": "3bd4f8a5-6501-4dfb-bb35-95709a462117",
   "metadata": {},
   "outputs": [
    {
     "ename": "NameError",
     "evalue": "name 'a' is not defined",
     "output_type": "error",
     "traceback": [
      "\u001b[31m---------------------------------------------------------------------------\u001b[39m",
      "\u001b[31mNameError\u001b[39m                                 Traceback (most recent call last)",
      "\u001b[36mCell\u001b[39m\u001b[36m \u001b[39m\u001b[32mIn[1]\u001b[39m\u001b[32m, line 1\u001b[39m\n\u001b[32m----> \u001b[39m\u001b[32m1\u001b[39m \u001b[38;5;28mprint\u001b[39m(\u001b[43ma\u001b[49m)\n",
      "\u001b[31mNameError\u001b[39m: name 'a' is not defined"
     ]
    }
   ],
   "source": [
    "print(a)"
   ]
  },
  {
   "cell_type": "code",
   "execution_count": 1,
   "id": "364d9888-217c-4c91-a4eb-720ee6cecf7c",
   "metadata": {},
   "outputs": [
    {
     "name": "stdout",
     "output_type": "stream",
     "text": [
      "Name Error Exception occurred\n"
     ]
    }
   ],
   "source": [
    "\"\"\"\n",
    "    we use try-except method to handle Python Errors/Exception\n",
    "\"\"\"\n",
    "#a=7\n",
    "try:\n",
    "  print(a)\n",
    "except:\n",
    "  print(\"Name Error Exception occurred\") #if a=7 is commented then this lines print"
   ]
  },
  {
   "cell_type": "code",
   "execution_count": 2,
   "id": "b4bd5db4-931e-4e0a-93d6-4194c2508558",
   "metadata": {},
   "outputs": [
    {
     "name": "stdout",
     "output_type": "stream",
     "text": [
      "Can't be divided by zero!\n"
     ]
    }
   ],
   "source": [
    "#handling ZeroDivisionError\n",
    "#Raised when number is divided by Zero\n",
    "\n",
    "n = 10\n",
    "try:\n",
    "    result = n / 0  # This will raise a ZeroDivisionError\n",
    "    \n",
    "except ZeroDivisionError:\n",
    "    print(\"Can't be divided by zero!\")"
   ]
  },
  {
   "cell_type": "code",
   "execution_count": 3,
   "id": "60875c06-b17b-4583-9de1-b7d2510e9f0c",
   "metadata": {},
   "outputs": [
    {
     "name": "stdout",
     "output_type": "stream",
     "text": [
      "TypeError: You can't add a string and an integer.\n"
     ]
    }
   ],
   "source": [
    "#TypeError\n",
    "\"\"\"\n",
    "    Raised when an operation or function is applied to an object \n",
    "    of inappropriate type.\n",
    "\"\"\"\n",
    "try:\n",
    "    result = \"10\" + 5  # Mixing string and integer\n",
    "except TypeError:\n",
    "    print(\"TypeError: You can't add a string and an integer.\")\n"
   ]
  },
  {
   "cell_type": "code",
   "execution_count": 4,
   "id": "dd5a1cde-fd95-4f19-ac79-46a49ba77a75",
   "metadata": {},
   "outputs": [
    {
     "name": "stdout",
     "output_type": "stream",
     "text": [
      "ValueError: Could not convert string to integer.\n"
     ]
    }
   ],
   "source": [
    "#ValueError\n",
    "\"\"\"\n",
    "    Raised when a function receives the right type but inappropriate value.\n",
    "\"\"\"\n",
    "try:\n",
    "    number = int(\"abc\")  # Invalid literal for int()\n",
    "except ValueError:\n",
    "    print(\"ValueError: Could not convert string to integer.\")\n"
   ]
  },
  {
   "cell_type": "code",
   "execution_count": 5,
   "id": "c32268f2-309b-4dae-aa06-5485fe8eb83b",
   "metadata": {},
   "outputs": [
    {
     "name": "stdout",
     "output_type": "stream",
     "text": [
      "FileNotFoundError: The file you're trying to open does not exist.\n"
     ]
    }
   ],
   "source": [
    "#FileNotFoundError\n",
    "\"\"\"Raised when trying to open a file that does not exist.\"\"\"\n",
    "try:\n",
    "    with open(\"nonexistent_file.txt\", \"r\") as file:\n",
    "        content = file.read()\n",
    "except FileNotFoundError:\n",
    "    print(\"FileNotFoundError: The file you're trying to open does not exist.\")\n"
   ]
  },
  {
   "cell_type": "code",
   "execution_count": null,
   "id": "3a5ef56d-0c6d-42d6-926a-05bba11f6e4d",
   "metadata": {},
   "outputs": [],
   "source": [
    "#IndexError\n",
    "\"\"\"\n",
    "    When index is out of bounds then IndexError is Raised\n",
    "\"\"\"\n",
    "try:\n",
    "    my_list = [1, 2, 3]\n",
    "    print(my_list[5])  # Invalid index\n",
    "except IndexError:\n",
    "    print(\"IndexError: Index out of range.\")\n"
   ]
  },
  {
   "cell_type": "code",
   "execution_count": 6,
   "id": "03a1d102-22cd-4dfe-b6f8-d18933ac2e2a",
   "metadata": {},
   "outputs": [
    {
     "name": "stdout",
     "output_type": "stream",
     "text": [
      "NameError: The variable or name you're trying to use has not been defined.\n"
     ]
    }
   ],
   "source": [
    "#NameError\n",
    "\"\"\"\n",
    "NameError occurs when you try to use a variable or function name \n",
    "that hasn't been defined yet.\n",
    "\"\"\"\n",
    "try:\n",
    "    print(x)  # x is not defined\n",
    "except NameError:\n",
    "    print(\"NameError: The variable or name you're trying to use has not been defined.\")"
   ]
  },
  {
   "cell_type": "code",
   "execution_count": 7,
   "id": "618d54da-b3e8-4ac5-b4aa-6caf02ae472a",
   "metadata": {},
   "outputs": [
    {
     "name": "stdout",
     "output_type": "stream",
     "text": [
      "RuntimeError: Maximum recursion depth exceeded or some unexpected issue occurred.\n"
     ]
    }
   ],
   "source": [
    "#RuntimeError\n",
    "\"\"\"\n",
    "    RuntimeError is a general-purpose error that indicates something went\n",
    "    wrong that doesn't fall into other specific error categories.\n",
    "    Often used in custom code or recursion issues.\n",
    "\"\"\"\n",
    "def recursive():\n",
    "    return recursive()  # infinite recursion\n",
    "\n",
    "try:\n",
    "    recursive()\n",
    "except RuntimeError:\n",
    "    print(\"RuntimeError: Maximum recursion depth exceeded or some unexpected issue occurred.\")\n"
   ]
  }
 ],
 "metadata": {
  "kernelspec": {
   "display_name": "Python 3 (ipykernel)",
   "language": "python",
   "name": "python3"
  },
  "language_info": {
   "codemirror_mode": {
    "name": "ipython",
    "version": 3
   },
   "file_extension": ".py",
   "mimetype": "text/x-python",
   "name": "python",
   "nbconvert_exporter": "python",
   "pygments_lexer": "ipython3",
   "version": "3.13.1"
  }
 },
 "nbformat": 4,
 "nbformat_minor": 5
}
