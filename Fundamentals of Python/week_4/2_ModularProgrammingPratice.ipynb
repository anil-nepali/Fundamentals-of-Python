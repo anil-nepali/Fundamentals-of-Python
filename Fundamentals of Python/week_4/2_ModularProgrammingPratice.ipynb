{
 "cells": [
  {
   "cell_type": "code",
   "execution_count": 1,
   "id": "af424916-0b9e-4f4f-8366-195f8aecae94",
   "metadata": {},
   "outputs": [
    {
     "name": "stdout",
     "output_type": "stream",
     "text": [
      "0.49999999999999994\n",
      "0.9999999999999999\n"
     ]
    }
   ],
   "source": [
    "#Import the math module and calculate the sine of 30 degrees by converting it to radians first.\n",
    "\n",
    "import math\n",
    "print(math.sin(math.radians(30)))\n",
    "print(math.tan(math.radians(45)))"
   ]
  },
  {
   "cell_type": "code",
   "execution_count": 2,
   "id": "c8f2596e-d629-461a-b0c0-29f7889f5bce",
   "metadata": {},
   "outputs": [
    {
     "name": "stdout",
     "output_type": "stream",
     "text": [
      "51\n"
     ]
    }
   ],
   "source": [
    "#Import the random module using the alias rng and generate a random integer between 50-75.\n",
    "\n",
    "import random as rng\n",
    "print(rng.randint(50, 75))\n",
    "\n"
   ]
  },
  {
   "cell_type": "code",
   "execution_count": null,
   "id": "128564d1-e5c5-4cef-9c4e-4b6d9a84f5bd",
   "metadata": {},
   "outputs": [],
   "source": [
    "#Create a separate file named calc.py containing a function that returns the square of a number,\n",
    "#then import this function and print the square of 8.\n"
   ]
  },
  {
   "cell_type": "code",
   "execution_count": 3,
   "id": "5968e08b-2dd9-412d-a08b-1066693b75a1",
   "metadata": {},
   "outputs": [
    {
     "name": "stdout",
     "output_type": "stream",
     "text": [
      "Writing calc.py\n"
     ]
    }
   ],
   "source": [
    "%%writefile calc.py\n",
    "def sqr(num):\n",
    "    return num * num\n"
   ]
  },
  {
   "cell_type": "code",
   "execution_count": 4,
   "id": "4126bcc9-2cb1-4f27-b54e-33441719c504",
   "metadata": {},
   "outputs": [
    {
     "name": "stdout",
     "output_type": "stream",
     "text": [
      "The square of 8 is: 64\n"
     ]
    }
   ],
   "source": [
    "import calc\n",
    "\n",
    "sqr_number = calc.sqr(8)\n",
    "print(f\"The square of 8 is: {sqr_number}\")\n"
   ]
  },
  {
   "cell_type": "code",
   "execution_count": 5,
   "id": "14454b64-f0de-4a8b-90bf-3e6dc9a9b86f",
   "metadata": {},
   "outputs": [
    {
     "name": "stdout",
     "output_type": "stream",
     "text": [
      "Apple\n"
     ]
    }
   ],
   "source": [
    "\"\"\"\n",
    "    Import only the choice function from the random module and use it to randomly\n",
    "    pick a fruit from the list: [\"Mango\", \"Apple\", \"Grape\"].\n",
    "\"\"\"\n",
    "\n",
    "from random import choice\n",
    "\n",
    "fruits = [\"Mango\", \"Apple\", \"Grape\"]\n",
    "print(choice(fruits))\n"
   ]
  }
 ],
 "metadata": {
  "kernelspec": {
   "display_name": "Python 3 (ipykernel)",
   "language": "python",
   "name": "python3"
  },
  "language_info": {
   "codemirror_mode": {
    "name": "ipython",
    "version": 3
   },
   "file_extension": ".py",
   "mimetype": "text/x-python",
   "name": "python",
   "nbconvert_exporter": "python",
   "pygments_lexer": "ipython3",
   "version": "3.13.1"
  }
 },
 "nbformat": 4,
 "nbformat_minor": 5
}
