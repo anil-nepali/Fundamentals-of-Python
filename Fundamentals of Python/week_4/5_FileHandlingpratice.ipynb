{
 "cells": [
  {
   "cell_type": "code",
   "execution_count": null,
   "id": "08499a57-6ea1-4c8f-b062-8313bc8201bd",
   "metadata": {},
   "outputs": [
    {
     "name": "stdout",
     "output_type": "stream",
     "text": [
      "\n",
      "Task Manager\n",
      "1. Add Task\n",
      "2. View Tasks\n",
      "3. Mark Task as Completed\n",
      "4. Exit\n"
     ]
    }
   ],
   "source": [
    "def add_task(file_name):\n",
    "    with open(file_name, \"a\") as file:\n",
    "        task = input(\"Enter a new task: \")\n",
    "        file.write(f\"{task},Pending\\n\")\n",
    "    print(\"Task added successfully!\")\n",
    "\n",
    "\n",
    "def view_tasks(file_name):\n",
    "    try:\n",
    "        with open(file_name, \"r\") as file:\n",
    "            print(\"\\nTasks:\")\n",
    "            for line in file:\n",
    "                task, status = line.strip().split(\",\")\n",
    "                print(f\"Task: {task}, Status: {status}\")\n",
    "    except FileNotFoundError:\n",
    "        print(\"No tasks found! Please add tasks first.\")\n",
    "\n",
    "\n",
    "def mark_task_completed(file_name):\n",
    "    try:\n",
    "        with open(file_name, \"r\") as file:\n",
    "            tasks = file.readlines()\n",
    "\n",
    "        task_to_complete = input(\"Enter the task to mark as completed: \")\n",
    "        updated = False\n",
    "        with open(file_name, \"w\") as file:\n",
    "            for task in tasks:\n",
    "                task_name, status = task.strip().split(\",\")\n",
    "                if task_name == task_to_complete and status == \"Pending\":\n",
    "                    file.write(f\"{task_name},Completed\\n\")\n",
    "                    updated = True\n",
    "                else:\n",
    "                    file.write(task)\n",
    "\n",
    "        if updated:\n",
    "            print(\"Task marked as completed!\")\n",
    "        else:\n",
    "            print(\"Task not found or already completed.\")\n",
    "    except FileNotFoundError:\n",
    "        print(\"No tasks found! Please add tasks first.\")\n",
    "\n",
    "\n",
    "# Main Menu\n",
    "file_name = \"tasks.txt\"\n",
    "\n",
    "while True:\n",
    "    print(\"\\nTask Manager\")\n",
    "    print(\"1. Add Task\")\n",
    "    print(\"2. View Tasks\")\n",
    "    print(\"3. Mark Task as Completed\")\n",
    "    print(\"4. Exit\")\n",
    "    choice = input(\"Enter your choice: \")\n",
    "\n",
    "    if choice == \"1\":\n",
    "        add_task(file_name)\n",
    "    elif choice == \"2\":\n",
    "        view_tasks(file_name)\n",
    "    elif choice == \"3\":\n",
    "        mark_task_completed(file_name)\n",
    "    elif choice == \"4\":\n",
    "        print(\"Exiting program...\")\n",
    "        break\n",
    "    else:\n",
    "        print(\"Invalid choice! Please try again.\")\n"
   ]
  }
 ],
 "metadata": {
  "kernelspec": {
   "display_name": "Python 3 (ipykernel)",
   "language": "python",
   "name": "python3"
  },
  "language_info": {
   "codemirror_mode": {
    "name": "ipython",
    "version": 3
   },
   "file_extension": ".py",
   "mimetype": "text/x-python",
   "name": "python",
   "nbconvert_exporter": "python",
   "pygments_lexer": "ipython3",
   "version": "3.13.1"
  }
 },
 "nbformat": 4,
 "nbformat_minor": 5
}
