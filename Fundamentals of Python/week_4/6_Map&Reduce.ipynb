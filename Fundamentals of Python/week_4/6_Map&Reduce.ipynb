{
 "cells": [
  {
   "cell_type": "code",
   "execution_count": null,
   "id": "745ac388-a397-4de3-8889-0b2705bbcccc",
   "metadata": {},
   "outputs": [],
   "source": [
    "#Map()\n",
    "\"\"\"\n",
    "    map() takes a function and an iterable (like a list or tupple) and \n",
    "    returns a new iterable with the function applied to each item.\n",
    "\n",
    "    #syntax\n",
    "    #iterable: This calculates the sequence of values that has to be reduced.\n",
    "    \n",
    "    map(fun,iterable)\n",
    "\"\"\""
   ]
  },
  {
   "cell_type": "code",
   "execution_count": 1,
   "id": "def17b66-f4d9-4f1e-83e5-a662d5385078",
   "metadata": {},
   "outputs": [
    {
     "name": "stdout",
     "output_type": "stream",
     "text": [
      "[4, 8, 12, 16]\n"
     ]
    }
   ],
   "source": [
    "def double(n):\n",
    "    return n * 2\n",
    "\n",
    "numbers = [2, 4, 6, 8]\n",
    "result = map(double, numbers)\n",
    "print(list(result))\n"
   ]
  },
  {
   "cell_type": "code",
   "execution_count": 3,
   "id": "02327156-49ec-4129-b8b7-360083e1ad36",
   "metadata": {},
   "outputs": [
    {
     "name": "stdout",
     "output_type": "stream",
     "text": [
      "[32.0, 68.0, 98.60000000000001, 212.0]\n"
     ]
    }
   ],
   "source": [
    "\"\"\"\n",
    "Q1:\n",
    "Write a Python program that converts a list of temperatures in Celsius to Fahrenheit using the formula: \n",
    " f = (c *(9/5)) + 32\n",
    "Use the map() function to apply the conversion to the entire list.\n",
    "\"\"\"\n",
    "\n",
    "def to_fahrenheit(c):\n",
    "    f = (c *(9/5)) + 32\n",
    "\n",
    "    return f\n",
    "c=[0, 20, 37, 100]\n",
    "result=map(to_fahrenheit,c)\n",
    "print(list(result))\n",
    "    "
   ]
  },
  {
   "cell_type": "code",
   "execution_count": null,
   "id": "b27a45c6-e8ab-4500-8162-8366599a476e",
   "metadata": {},
   "outputs": [],
   "source": [
    "#Reduce() \n",
    "\"\"\"\n",
    "    apply a function to an iterable and reduce it to  a sing le cumultative value.\n",
    "    performs function on first two elements and repeats process until 1 value is remains.\n",
    "    #syntax\n",
    "    \"\"\n",
    "    reduce(function, iterable)\n",
    "\n",
    "    reduce is a built-in Python function using functools module used to apply a\n",
    "    function cumulatively to the items of a sequence (like a list), \n",
    "    reducing the sequence to a single value.\n",
    "    \n",
    "\"\"\"\n",
    "#syntax"
   ]
  },
  {
   "cell_type": "code",
   "execution_count": 10,
   "id": "fd5efb2f-68e5-4907-a5a2-6b58a8fb2f67",
   "metadata": {},
   "outputs": [
    {
     "name": "stdout",
     "output_type": "stream",
     "text": [
      "a is assigned as the final cumultive sum which is :35\n"
     ]
    }
   ],
   "source": [
    "from  functools import reduce\n",
    "\n",
    "def sum(x,y):\n",
    "    return x+y\n",
    "a = reduce(sum,[3,5,7,9,11])\n",
    "print(f\"a is assigned as the final cumultive sum which is :{a}\")\n",
    "\n",
    "\"\"\"\n",
    "    how codes works here as single cumulative sum:\n",
    "    first it take 3 as X  and 5 as Y and  print 8 then it takes sum(8,7)=15\n",
    "    then sum(15+next number ) and finally 35\n",
    "\"\"\"\n",
    "\n"
   ]
  },
  {
   "cell_type": "code",
   "execution_count": 2,
   "id": "bac3570a-3690-476d-805b-fd457d563190",
   "metadata": {},
   "outputs": [
    {
     "name": "stdout",
     "output_type": "stream",
     "text": [
      "Hello\n"
     ]
    }
   ],
   "source": [
    "from functools import reduce\n",
    "words = [\"H\", \"e\", \"l\", \"l\", \"o\"]\n",
    "output = reduce(lambda x, y: x + y, words)\n",
    "print(output)\n"
   ]
  }
 ],
 "metadata": {
  "kernelspec": {
   "display_name": "Python 3 (ipykernel)",
   "language": "python",
   "name": "python3"
  },
  "language_info": {
   "codemirror_mode": {
    "name": "ipython",
    "version": 3
   },
   "file_extension": ".py",
   "mimetype": "text/x-python",
   "name": "python",
   "nbconvert_exporter": "python",
   "pygments_lexer": "ipython3",
   "version": "3.13.1"
  }
 },
 "nbformat": 4,
 "nbformat_minor": 5
}
