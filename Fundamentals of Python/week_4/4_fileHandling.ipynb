{
 "cells": [
  {
   "cell_type": "code",
   "execution_count": null,
   "id": "10901e6d-3b5f-47aa-90cd-5797be873e2f",
   "metadata": {},
   "outputs": [],
   "source": [
    "#file\n",
    "'''\n",
    "    File is a collection of data or information stored on a computer.\n",
    "    It acts as a container for storing content, which can be image,video or any types of data.\n",
    "    Text file:.txt,.docx\n",
    "    Binary files:.jpg for images,.mp4 for videos.\n",
    "'''\n",
    "#modes in file\n",
    "'''\n",
    "    1.Read (r)\n",
    "    Opens a file for reading.\n",
    "    Throws an error if the file doesn’t exist.\n",
    "    Default mode if no mode is specified.\n",
    "    \n",
    "    2.Write (w)\n",
    "    Opens a file for writing.\n",
    "    Creates a new file if it doesn’t exist.\n",
    "    Overwrites the content if the file exists.\n",
    "    \n",
    "    Append (a)\n",
    "    Opens a file for appending (adding content at the end).\n",
    "    Creates a new file if it doesn’t exist.\n",
    "    \n",
    "    \n",
    "'''\n",
    "\n",
    "\n"
   ]
  },
  {
   "cell_type": "code",
   "execution_count": null,
   "id": "744036c4-8315-4dbf-8dcb-be878b811935",
   "metadata": {},
   "outputs": [],
   "source": [
    "#opening a file()\n",
    "'''\n",
    "    Open() function opens a files.\n",
    "    it takes two argument (the name of the file,mode of the file)\n",
    "    mode can be w for writing ,r for reading and a for appending\n",
    "'''\n",
    "f=open(\"file.txt\",'r')\n",
    "text=f.read()\n",
    "print(text)\n",
    "f.close()"
   ]
  },
  {
   "cell_type": "code",
   "execution_count": null,
   "id": "f4274ae5-3f35-4655-97a9-826a69f8493f",
   "metadata": {},
   "outputs": [],
   "source": [
    "#appending to a file()\n",
    "'''\n",
    "    The append() function adds content to the end of a file.\n",
    "    It preserves existing content and adds new data at the end.\n",
    "    Syntax: file.write(data)\n",
    "    \n",
    "'''\n",
    "\n",
    "file = open(\"example.txt\", \"a\")\n",
    "file.write(\"\\nAppended text.\")\n",
    "file.close()"
   ]
  },
  {
   "cell_type": "code",
   "execution_count": null,
   "id": "6511d7a7-f32d-42aa-b709-6ff891e0d7d2",
   "metadata": {},
   "outputs": [],
   "source": [
    "\n",
    "#reading lines from a file()\n",
    "'''\n",
    "    The readline() function reads one line at a time from a file.\n",
    "    Useful for processing large files line by line.\n",
    "    Syntax: file.readline()\n",
    "   \n",
    "'''\n",
    "\n",
    "file = open(\"example.txt\", \"r\")\n",
    "line = file.readline()\n",
    "print(line)\n",
    "file.close()"
   ]
  },
  {
   "cell_type": "code",
   "execution_count": null,
   "id": "62c5be42-f446-4585-9781-bbb49723b5dc",
   "metadata": {},
   "outputs": [],
   "source": [
    "#writing to a file()\n",
    "'''\n",
    "    The write() function writes content to a file.\n",
    "    It overwrites existing content if the file is opened in write mode.\n",
    "    Syntax: file.write(data)\n",
    "    \n",
    "'''\n",
    "\n",
    "file = open(\"example.txt\", \"w\")\n",
    "file.write(\"Hello, World!\")\n",
    "file.close()"
   ]
  },
  {
   "cell_type": "code",
   "execution_count": null,
   "id": "ae9bbab2-1545-4dcd-9bc4-b7b77e54fdd4",
   "metadata": {},
   "outputs": [],
   "source": [
    "#writing multiple lines to a file()\n",
    "'''\n",
    "    The writelines() function writes a list of strings to a file.\n",
    "    It does not add newline characters automatically.\n",
    "    Syntax: file.writelines(list_of_strings)\n",
    "\n",
    "'''\n",
    "file = open(\"example.txt\", \"w\")\n",
    "file.writelines([\"Line 1\\n\", \"Line 2\\n\"])\n",
    "file.close()"
   ]
  }
 ],
 "metadata": {
  "kernelspec": {
   "display_name": "Python 3 (ipykernel)",
   "language": "python",
   "name": "python3"
  },
  "language_info": {
   "codemirror_mode": {
    "name": "ipython",
    "version": 3
   },
   "file_extension": ".py",
   "mimetype": "text/x-python",
   "name": "python",
   "nbconvert_exporter": "python",
   "pygments_lexer": "ipython3",
   "version": "3.13.1"
  }
 },
 "nbformat": 4,
 "nbformat_minor": 5
}
