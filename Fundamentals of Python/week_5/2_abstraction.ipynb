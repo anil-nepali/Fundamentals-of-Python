{
 "cells": [
  {
   "cell_type": "code",
   "execution_count": null,
   "id": "74279eba-3e08-47ce-9279-2b09bb1cb4f5",
   "metadata": {},
   "outputs": [],
   "source": [
    "#Abstraction\n",
    "'''\n",
    "    Abstraction in python a programming concept that hides complex\n",
    "    implementation details why exposing only essential information and\n",
    "    functionalities to users.\n",
    "\n",
    "    We achieve abstraction using\n",
    "    Abstract class                             abstract methods.\n",
    "    Abstract class is a class in which          It is a method declare in abstract class.\n",
    "    one or more abstract methods are\n",
    "    implemented.\n",
    "    An object of an abstract class cann't       cannot be called directly ,must be implemented\n",
    "    be created.                                 in a sub class\n",
    "    python provide abc module to work with      we use @abstractmethod decorater to define abstract\n",
    "    abstraction.                                mehtods\n",
    "\n",
    "'''"
   ]
  },
  {
   "cell_type": "code",
   "execution_count": 1,
   "id": "0313cea9-c3b0-4097-81e5-559d8d7432f5",
   "metadata": {},
   "outputs": [
    {
     "name": "stdout",
     "output_type": "stream",
     "text": [
      "Gravitational Force between Earth and Moon:\n",
      "1.98e+20 N\n",
      "\n",
      "Gravitational Acceleration near Earth's surface:\n",
      "9.82 m/s^2\n"
     ]
    }
   ],
   "source": [
    "from abc import ABC, abstractmethod\n",
    "\n",
    "# Gravitational constant\n",
    "G = 6.674 * (10 ** -11)\n",
    "\n",
    "# Abstract class for gravitational calculations\n",
    "class GravityCalculation(ABC):\n",
    "    @abstractmethod\n",
    "    def calculate(self, *args):\n",
    "        pass\n",
    "\n",
    "# Subclass for Gravitational Force Calculation\n",
    "class GravitationalForce(GravityCalculation):\n",
    "    def calculate(self, mass1, mass2, distance):\n",
    "        if distance <= 0:\n",
    "            raise ValueError(\"Distance must be greater than zero\")\n",
    "        force = G * (mass1 * mass2) / (distance ** 2)\n",
    "        return force\n",
    "\n",
    "# Subclass for Gravitational Acceleration near Earth's surface\n",
    "class GravitationalAcceleration(GravityCalculation):\n",
    "    def calculate(self, mass_object, radius_earth=6.371 * 10**6, mass_earth=5.972 * 10**24):\n",
    "        # Force experienced by the object near Earth's surface\n",
    "        force = G * (mass_object * mass_earth) / (radius_earth ** 2)\n",
    "        acceleration = force / mass_object  # F = m * a => a = F / m\n",
    "        return acceleration\n",
    "\n",
    "# Example usage\n",
    "\n",
    "# Gravitational Force between Earth and Moon\n",
    "earth_mass = 5.972 * (10 ** 24)  # in kg\n",
    "moon_mass = 7.348 * (10 ** 22)  # in kg\n",
    "distance_earth_moon = 3.844 * (10 ** 8)  # in meters\n",
    "\n",
    "force_calculator = GravitationalForce()\n",
    "force = force_calculator.calculate(earth_mass, moon_mass, distance_earth_moon)\n",
    "print(\"Gravitational Force between Earth and Moon:\")\n",
    "print(f\"{force:.2e} N\")  # Scientific notation\n",
    "\n",
    "# Gravitational Acceleration of an object near Earth's surface\n",
    "object_mass = 70  # in kg (e.g., a person)\n",
    "acceleration_calculator = GravitationalAcceleration()\n",
    "acceleration = acceleration_calculator.calculate(object_mass)\n",
    "print(\"\\nGravitational Acceleration near Earth's surface:\")\n",
    "print(f\"{acceleration:.2f} m/s^2\")  # Standard gravitational acceleration\n"
   ]
  }
 ],
 "metadata": {
  "kernelspec": {
   "display_name": "Python 3 (ipykernel)",
   "language": "python",
   "name": "python3"
  },
  "language_info": {
   "codemirror_mode": {
    "name": "ipython",
    "version": 3
   },
   "file_extension": ".py",
   "mimetype": "text/x-python",
   "name": "python",
   "nbconvert_exporter": "python",
   "pygments_lexer": "ipython3",
   "version": "3.13.1"
  }
 },
 "nbformat": 4,
 "nbformat_minor": 5
}
