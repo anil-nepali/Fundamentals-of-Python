{
 "cells": [
  {
   "cell_type": "code",
   "execution_count": null,
   "id": "c86d2583-ed38-4ed4-ad03-4c476c66c35c",
   "metadata": {},
   "outputs": [],
   "source": [
    "#Constructor\n",
    "'''\n",
    "    __init__() function\n",
    "    Constructor is basically the __init__() function\n",
    "    It invoke during the object creation/executed\n",
    "    All classes have __init__() function ,which is always executed when the object\n",
    "    is being initiated .\n",
    "    Constructor always take the parameter which is called self parameter\n",
    "    Self parameter is a reference to return the current instance of the class,\n",
    "    and used to access variables that belongs to the class.\n",
    "'''"
   ]
  },
  {
   "cell_type": "code",
   "execution_count": 1,
   "id": "8f51252e-da2a-4e3b-a7b1-ea0a1a4a0eba",
   "metadata": {},
   "outputs": [
    {
     "name": "stdout",
     "output_type": "stream",
     "text": [
      "Anil Nepali\n",
      "Kshitz Subedi\n",
      "Hi your name is Elon Musk and your avg marks:97.33333333333333\n"
     ]
    }
   ],
   "source": [
    "class Student:\n",
    "    def __init__(self,fullName):\n",
    "        self.name=fullName\n",
    "s1 = Student(\"Anil Nepali\")\n",
    "print(s1.name)\n",
    "\n",
    "s2=Student(\"Kshitz Subedi\")\n",
    "print(s2.name)\n",
    "\n",
    "class p1:\n",
    "    def __init__(self,name,marks):\n",
    "        self.name=name\n",
    "        self.marks=marks\n",
    "\n",
    "    def get_avg(self):\n",
    "        sum=0\n",
    "        for val in self.marks:\n",
    "            sum+=val\n",
    "        print(f\"Hi your name is {self.name} and your avg marks:{sum/3}\")\n",
    "\n",
    "o1=p1(\"Elon Musk\",[97,96,99])\n",
    "o1.get_avg()"
   ]
  },
  {
   "cell_type": "code",
   "execution_count": null,
   "id": "2e9122e1-0515-4d0c-b214-c088d5787b59",
   "metadata": {},
   "outputs": [],
   "source": [
    "#Decorators\n",
    "'''\n",
    "    A decorator is a function that takes another function as an argument and returns a new function \n",
    "    that modifies the behaviour of the original function\n",
    "'''\n",
    "\n"
   ]
  },
  {
   "cell_type": "code",
   "execution_count": 2,
   "id": "9faf0392-370d-4c32-9dab-410c30ee86be",
   "metadata": {},
   "outputs": [
    {
     "name": "stdout",
     "output_type": "stream",
     "text": [
      "🌸🌟 Welcome! 🌟🌸\n",
      "Hello, Anil! Nice to meet you! 😊\n",
      "🌈✨ Have a wonderful day! ✨🌈\n"
     ]
    }
   ],
   "source": [
    "def emoji_decorator(func):\n",
    "    def fun(name):\n",
    "        print(\"🌸🌟 Welcome! 🌟🌸\")  #\n",
    "        func(name)#We use func(name) to ensure that the original function runs as part of the decorated version.\n",
    "        print(\"🌈✨ Have a wonderful day! ✨🌈\")\n",
    "    return fun\n",
    "\n",
    "@emoji_decorator\n",
    "def greet(name):\n",
    "    print(f\"Hello, {name}! Nice to meet you! 😊\")\n",
    "\n",
    "# Use the decorated function\n",
    "greet(\"Anil\")"
   ]
  }
 ],
 "metadata": {
  "kernelspec": {
   "display_name": "Python 3 (ipykernel)",
   "language": "python",
   "name": "python3"
  },
  "language_info": {
   "codemirror_mode": {
    "name": "ipython",
    "version": 3
   },
   "file_extension": ".py",
   "mimetype": "text/x-python",
   "name": "python",
   "nbconvert_exporter": "python",
   "pygments_lexer": "ipython3",
   "version": "3.13.1"
  }
 },
 "nbformat": 4,
 "nbformat_minor": 5
}
