{
 "cells": [
  {
   "cell_type": "code",
   "execution_count": 2,
   "id": "45cff0a5-6503-4b84-a6a1-febe623e5006",
   "metadata": {},
   "outputs": [
    {
     "name": "stdout",
     "output_type": "stream",
     "text": [
      "Nepali is an Cast of Anil\n"
     ]
    }
   ],
   "source": [
    "#class\n",
    "'''\n",
    "    class is a blueprint for creating objects(instances).\n",
    "    It will define the properties and behaviour that the object\n",
    "    of that class will have.\n",
    "    Classes are created by keyword class.\n",
    "    Attributes are the variables that belong to a class.\n",
    "    Attributes are always public and can be accessed using the dot (.) operator.\n",
    "'''\n",
    "\n",
    "class Student:\n",
    "    Name=\"Anil\"\n",
    "    Cast=\"Nepali\"\n",
    "#creating object (instance)\n",
    "a=Student()\n",
    "print(f\"{a.Cast} is an Cast of {a.Name}\")\n",
    "\n"
   ]
  },
  {
   "cell_type": "code",
   "execution_count": 3,
   "id": "ac6b5eb6-1213-4567-9c7d-217276166759",
   "metadata": {},
   "outputs": [
    {
     "name": "stdout",
     "output_type": "stream",
     "text": [
      "Mercedes in Black  i preffered most\n"
     ]
    }
   ],
   "source": [
    "\n",
    "#Self parameter\n",
    "'''\n",
    "    The self parameter is a refrences to the current instance \n",
    "    of the class and is used to access variable that belong to the class\n",
    "    \n",
    "'''\n",
    "\n",
    "class Car:\n",
    "    name='Mercedes'\n",
    "    color='Black'\n",
    "\n",
    "    def info(self):\n",
    "        print(f\"{self.name} in {self.color}  i preffered most\")\n",
    "b= Car()\n",
    "b.info()"
   ]
  }
 ],
 "metadata": {
  "kernelspec": {
   "display_name": "Python 3 (ipykernel)",
   "language": "python",
   "name": "python3"
  },
  "language_info": {
   "codemirror_mode": {
    "name": "ipython",
    "version": 3
   },
   "file_extension": ".py",
   "mimetype": "text/x-python",
   "name": "python",
   "nbconvert_exporter": "python",
   "pygments_lexer": "ipython3",
   "version": "3.13.1"
  }
 },
 "nbformat": 4,
 "nbformat_minor": 5
}
