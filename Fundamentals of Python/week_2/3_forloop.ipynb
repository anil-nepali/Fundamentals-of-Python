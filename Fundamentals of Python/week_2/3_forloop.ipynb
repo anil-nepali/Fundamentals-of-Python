{
 "cells": [
  {
   "cell_type": "code",
   "execution_count": null,
   "id": "d0fccbfd-c099-40ef-83e1-c4222a5e0279",
   "metadata": {},
   "outputs": [],
   "source": [
    "#Python for loops\n",
    "'''\n",
    "    A for loop is used fo iterating over a sequence (that is either a list,\n",
    "    a tuple , a dictionary, a set or a string).\n",
    "    syntax:\n",
    "    for variable in iterable:\n",
    "'''\n"
   ]
  },
  {
   "cell_type": "code",
   "execution_count": null,
   "id": "819a1192-704a-4332-b875-86c2dd9f4d61",
   "metadata": {},
   "outputs": [],
   "source": [
    "fruits=['apple','banana','chery']\n",
    "for fruit in fruits:\n",
    "    print(fruit)\n",
    "#exit the loop when x is \"banana\"'but this time break comes before the print:\n",
    "for x in fruits:\n",
    "    if x==\"banana\":\n",
    "        break\n",
    "    print(x) #apple"
   ]
  },
  {
   "cell_type": "code",
   "execution_count": null,
   "id": "8f739784-3f18-46bb-ae3b-a32f6efcca03",
   "metadata": {},
   "outputs": [],
   "source": [
    "\n",
    "#The continue statement\n",
    "#with the continue statement we can stop the current iteration of the loop\n",
    "#and continue with the next:\n",
    "#do not print banana\n",
    "for x in fruits:\n",
    "    if x==\"banana\":\n",
    "        continue\n",
    "    print(x)"
   ]
  },
  {
   "cell_type": "code",
   "execution_count": null,
   "id": "65cc4fa1-c23b-490e-946c-6da00ccc6006",
   "metadata": {},
   "outputs": [],
   "source": [
    "#using range\n",
    "for i in range(5):\n",
    "    print(i)"
   ]
  },
  {
   "cell_type": "code",
   "execution_count": null,
   "id": "f01c0c77-94a0-4a4c-89f5-d82a2ca1c3cb",
   "metadata": {},
   "outputs": [],
   "source": [
    "#Dynamic Range iterations\n",
    "for i in range(1,10,2):\n",
    "    print(i)\n",
    "\n",
    "matrix =[[1,2],[3,4]]\n",
    "for row in matrix:\n",
    "    for element in row:\n",
    "        print(element)\n",
    "\n",
    "text='Python'\n",
    "for letter in text:\n",
    "    print(letter)"
   ]
  },
  {
   "cell_type": "code",
   "execution_count": null,
   "id": "3628046e-1293-439f-a41b-5b8bec74e2ca",
   "metadata": {},
   "outputs": [],
   "source": [
    "#Multiplication table using for loop\n",
    "number=5\n",
    "print(f\"Multiplication Table for {number}\")\n",
    "for i in range(1,11):\n",
    "    print(f\"{number}*{i}={number*i}\")"
   ]
  },
  {
   "cell_type": "code",
   "execution_count": null,
   "id": "0c36b5a4-4c58-4230-92f5-0816d1544eb4",
   "metadata": {},
   "outputs": [],
   "source": [
    "#Multiplication Table for a range of Numbers\n",
    "start=1\n",
    "end=5\n",
    "for number in range(start,end+1):\n",
    "    print(f\"\\n Multiplication Table for {number}\")\n",
    "    for i in range(1,11):\n",
    "        print(f\"{number}*{i}={number * i}\")"
   ]
  }
 ],
 "metadata": {
  "kernelspec": {
   "display_name": "Python 3 (ipykernel)",
   "language": "python",
   "name": "python3"
  },
  "language_info": {
   "codemirror_mode": {
    "name": "ipython",
    "version": 3
   },
   "file_extension": ".py",
   "mimetype": "text/x-python",
   "name": "python",
   "nbconvert_exporter": "python",
   "pygments_lexer": "ipython3",
   "version": "3.13.1"
  }
 },
 "nbformat": 4,
 "nbformat_minor": 5
}
