{
 "cells": [
  {
   "cell_type": "code",
   "execution_count": null,
   "id": "251cd48b-eb7c-4b1b-ac9f-47c7f0846454",
   "metadata": {},
   "outputs": [],
   "source": [
    "#Function\n",
    "'''\n",
    "    Function is a block of code which only runs when it is called.\n",
    "    You can pass data known as parameter, into function.\n",
    "    A function can return result as data.\n",
    "    They are defined using def keyword;\n",
    "'''\n"
   ]
  },
  {
   "cell_type": "code",
   "execution_count": 1,
   "id": "c57a414d-bb74-4954-bf94-1b120be0d2d0",
   "metadata": {},
   "outputs": [
    {
     "name": "stdout",
     "output_type": "stream",
     "text": [
      "Hello world!\n"
     ]
    }
   ],
   "source": [
    "\n",
    "def fun_name():\n",
    "    print(\"Hello world!\")\n",
    "fun_name()"
   ]
  },
  {
   "cell_type": "code",
   "execution_count": 2,
   "id": "238dcefa-81ba-4eec-8896-e61c75c66a58",
   "metadata": {},
   "outputs": [
    {
     "name": "stdout",
     "output_type": "stream",
     "text": [
      "8\n"
     ]
    }
   ],
   "source": [
    "#Function with parameter\n",
    "\n",
    "def fun(a,b):\n",
    "    return (a+b)\n",
    "result = fun(3,5)\n",
    "print(result)"
   ]
  },
  {
   "cell_type": "code",
   "execution_count": 3,
   "id": "262794a1-3eb8-424e-aeca-9c8965a85234",
   "metadata": {},
   "outputs": [
    {
     "name": "stdout",
     "output_type": "stream",
     "text": [
      "My dream country is Swizerland.\n",
      "Hello Anil\n"
     ]
    }
   ],
   "source": [
    "#Default parameter\n",
    "def funcc(country=\"Swizerland\"):\n",
    "    print(f\"My dream country is {country}.\")\n",
    "funcc()\n",
    "#Arguments\n",
    "def func(name):\n",
    "    print(f\"Hello {name}\")\n",
    "func(\"Anil\")"
   ]
  },
  {
   "cell_type": "code",
   "execution_count": 4,
   "id": "9e9ec5dc-458e-42c4-a262-2dc551b4531a",
   "metadata": {},
   "outputs": [
    {
     "name": "stdout",
     "output_type": "stream",
     "text": [
      "The youngest child is Linus\n"
     ]
    }
   ],
   "source": [
    "\n",
    "#Arbitary Arguments\n",
    "#this are particularly useful when you don't know in advance how many arguments\n",
    "#will be pass to your function.\n",
    "#These arguments are captured as tuple\n",
    "#they are defined using * keyword\n",
    "def my_function(*kids):\n",
    "  print(\"The youngest child is \" + kids[2])\n",
    "\n",
    "my_function(\"Emil\", \"Tobias\", \"Linus\")\n",
    "\n"
   ]
  },
  {
   "cell_type": "code",
   "execution_count": 5,
   "id": "df9b4add-be53-4643-81b1-8c2e9482d500",
   "metadata": {},
   "outputs": [
    {
     "name": "stdout",
     "output_type": "stream",
     "text": [
      "Age :21\n",
      "person:\n",
      "kshitz\n",
      "Abeeral\n",
      "Anil\n"
     ]
    }
   ],
   "source": [
    "#combinig fixed and Arbitary Arguments\n",
    "def describe_person(age,*person):\n",
    "    print(f\"Age :{age}\")\n",
    "    print(\"person:\")\n",
    "    for per in person:\n",
    "        print(f\"{per}\")\n",
    "describe_person(21,\"kshitz\",\"Abeeral\",\"Anil\")"
   ]
  },
  {
   "cell_type": "code",
   "execution_count": 6,
   "id": "049920c4-6e85-4d47-a8a5-ed040c7a4b32",
   "metadata": {},
   "outputs": [
    {
     "name": "stdout",
     "output_type": "stream",
     "text": [
      "Area of square with length 5 is 25\n"
     ]
    }
   ],
   "source": [
    "def area_of_square(len):\n",
    "  return len*len\n",
    "num = 5\n",
    "print(f'Area of square with length {num} is {area_of_square(num)}')"
   ]
  },
  {
   "cell_type": "code",
   "execution_count": 7,
   "id": "ada4abd9-f6b3-4faa-a2f0-5c526d1bb234",
   "metadata": {},
   "outputs": [
    {
     "name": "stdout",
     "output_type": "stream",
     "text": [
      "Area of circle with length 5 is 78.5\n"
     ]
    }
   ],
   "source": [
    "\n",
    "def area_of_circle(radius):\n",
    "  return 3.14 * radius *radius\n",
    "\n",
    "r=5\n",
    "print(f'Area of circle with length {r} is {area_of_circle(r)}')"
   ]
  }
 ],
 "metadata": {
  "kernelspec": {
   "display_name": "Python 3 (ipykernel)",
   "language": "python",
   "name": "python3"
  },
  "language_info": {
   "codemirror_mode": {
    "name": "ipython",
    "version": 3
   },
   "file_extension": ".py",
   "mimetype": "text/x-python",
   "name": "python",
   "nbconvert_exporter": "python",
   "pygments_lexer": "ipython3",
   "version": "3.13.1"
  }
 },
 "nbformat": 4,
 "nbformat_minor": 5
}
