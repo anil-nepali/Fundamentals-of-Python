{
 "cells": [
  {
   "cell_type": "code",
   "execution_count": 2,
   "id": "293779b3-7ebc-4c6b-bd19-be7bca16ee5a",
   "metadata": {},
   "outputs": [
    {
     "name": "stdout",
     "output_type": "stream",
     "text": [
      "Simple Calculator\n",
      "1. Add\n",
      "2. Subtract\n",
      "3. Multiply\n",
      "4. Divide\n",
      "5. Modulus\n",
      "6. Power\n"
     ]
    },
    {
     "name": "stdin",
     "output_type": "stream",
     "text": [
      "Enter the First Number:  6\n",
      "Enter the Second Number:  7\n",
      "Enter your choice (1-7):  3\n"
     ]
    },
    {
     "name": "stdout",
     "output_type": "stream",
     "text": [
      "Multiplication:42\n"
     ]
    }
   ],
   "source": [
    "def add(x,y):\n",
    "    return x+y\n",
    "\n",
    "def sub(x,y):\n",
    "    return x-y\n",
    "\n",
    "def mul(x,y):\n",
    "        return x*y\n",
    "\n",
    "def div(x,y):\n",
    "    if y==0:\n",
    "        return \"Cannot divide by Zero\"\n",
    "    return x/y\n",
    "def mod(x,y):\n",
    "    return x%y\n",
    "\n",
    "def pow(x,y):\n",
    "    return x**y\n",
    "\n",
    "\n",
    "def inter_choice(choice,x,y):\n",
    "    match choice:\n",
    "        case 1:\n",
    "            return f\"Addition:{add(x,y)}\"\n",
    "        case 2:\n",
    "            return f\"Subtraction:{sub(x,y)}\"\n",
    "        case 3:\n",
    "            return f\"Multiplication:{mul(x,y)}\"\n",
    "        case 4:\n",
    "            return f\"Division:{div(x,y)}\"\n",
    "        case 5:\n",
    "            return f\"Modulus:{mod(x,y)}\"\n",
    "        case 6:\n",
    "            return f\"Power:{pow(x,y)}\"\n",
    "        case 7:\n",
    "            return \"Invalid Choice!\"\n",
    "\n",
    "def main():\n",
    "    print(\"Simple Calculator\")\n",
    "    print(\"1. Add\\n2. Subtract\\n3. Multiply\\n4. Divide\\n5. Modulus\\n6. Power\")\n",
    "    \n",
    "    \n",
    "    x = int(input(\"Enter the First Number: \"))\n",
    "    y = int(input(\"Enter the Second Number: \"))\n",
    "    choice = int(input(\"Enter your choice (1-7): \"))\n",
    "\n",
    "    print(inter_choice(choice,x,y))\n",
    "main()\n",
    "        \n",
    "    \n",
    "\n",
    "\n",
    "\n",
    "\n",
    "\n"
   ]
  },
  {
   "cell_type": "code",
   "execution_count": null,
   "id": "6b41c37c-c008-4e48-a07b-25249ae6f995",
   "metadata": {},
   "outputs": [],
   "source": []
  }
 ],
 "metadata": {
  "kernelspec": {
   "display_name": "Python 3 (ipykernel)",
   "language": "python",
   "name": "python3"
  },
  "language_info": {
   "codemirror_mode": {
    "name": "ipython",
    "version": 3
   },
   "file_extension": ".py",
   "mimetype": "text/x-python",
   "name": "python",
   "nbconvert_exporter": "python",
   "pygments_lexer": "ipython3",
   "version": "3.13.1"
  }
 },
 "nbformat": 4,
 "nbformat_minor": 5
}
