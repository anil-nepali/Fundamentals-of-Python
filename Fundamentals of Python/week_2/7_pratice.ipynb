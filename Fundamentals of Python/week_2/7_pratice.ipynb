{
 "cells": [
  {
   "cell_type": "code",
   "execution_count": 1,
   "id": "32afc294-0ef1-483d-a086-7b4ffbf77eeb",
   "metadata": {},
   "outputs": [
    {
     "name": "stdin",
     "output_type": "stream",
     "text": [
      "Enter the Birth Year of the person:  2003\n"
     ]
    },
    {
     "name": "stdout",
     "output_type": "stream",
     "text": [
      "Current Year:2025\n",
      "The person is 22 years old.\n"
     ]
    }
   ],
   "source": [
    "\"\"\"\n",
    "    1. Age Calculator\n",
    "     Goal: Create a program that calculates a person’s age based on their birth year.\n",
    "     Hints:\n",
    "     • Ask the user to input their birth year.\n",
    "     • Use the current year (you can hardcode it or use the datetime module).\n",
    "     • Subtract the birth year from the current year and display the result.\n",
    "    \n",
    "\"\"\"\n",
    "\n",
    "\n",
    "import datetime\n",
    "\n",
    "birth_year=int(input(\"Enter the Birth Year of the person: \"))\n",
    "\n",
    "current_year = datetime.datetime.now().year\n",
    "\n",
    "age=current_year-birth_year\n",
    "\n",
    "print(f\"Current Year:{current_year}\")\n",
    "print(f\"The person is {age} years old.\")\n"
   ]
  },
  {
   "cell_type": "code",
   "execution_count": 2,
   "id": "137350f6-0865-4ef3-a30e-9c9663c6812e",
   "metadata": {},
   "outputs": [
    {
     "name": "stdin",
     "output_type": "stream",
     "text": [
      "Enter the Principal amount (Rs):  20000\n",
      "Enter the Annual Interest Rate (%):  24\n",
      "Enter the Time (in years):  2\n"
     ]
    },
    {
     "name": "stdout",
     "output_type": "stream",
     "text": [
      "\n",
      "Simple Interest = Rs 9600.00\n",
      "Total Amount after 2.0 years = Rs 29600.00\n"
     ]
    }
   ],
   "source": [
    "\"\"\"\n",
    "    2. Simple Interest Calculator\n",
    "     Goal: Build a program that calculates the simple interest earned on a deposit.\n",
    "     Hints:\n",
    "     • Ask the user to input principal amount, rate of interest, and time in years.\n",
    "     • Use the formula: SI = P× R× T/100 .\n",
    "     • Display the simple interest with appropriate formatting.\n",
    "\"\"\"\n",
    "\n",
    "P = float(input(\"Enter the Principal amount (Rs): \"))\n",
    "R = float(input(\"Enter the Annual Interest Rate (%): \"))\n",
    "T = float(input(\"Enter the Time (in years): \"))\n",
    "\n",
    "SI = (P * R * T) / 100\n",
    "\n",
    "total_amount = P + SI\n",
    "\n",
    "print(f\"\\nSimple Interest = Rs {SI:.2f}\")\n",
    "print(f\"Total Amount after {T} years = Rs {total_amount:.2f}\")\n"
   ]
  },
  {
   "cell_type": "code",
   "execution_count": 3,
   "id": "ec717bbd-39b8-436f-99a6-995f127f5510",
   "metadata": {},
   "outputs": [
    {
     "name": "stdin",
     "output_type": "stream",
     "text": [
      "Enter the weight of person (kg): 45\n",
      "Enter the height of person (Meters): 4\n"
     ]
    },
    {
     "name": "stdout",
     "output_type": "stream",
     "text": [
      "Your BMI is :2.81\n",
      "Category: Underweight\n"
     ]
    }
   ],
   "source": [
    "\"\"\"\n",
    "    3. BMI Calculator\n",
    "     Goal: Create a program to calculate Body Mass Index (BMI).\n",
    "     Hints:\n",
    "     • Ask the user to input their weight (in kg) and height (in meters).\n",
    "     • Use the formula: BMI = weight/height*height .\n",
    "     • Print the BMI value with a message indicating the weight category (e.g., underweight, normal,\n",
    "     overweight).\n",
    "\"\"\"\n",
    "\n",
    "\n",
    "W= float(input(\"Enter the weight of person (kg):\"))\n",
    "H = float(input(\"Enter the height of person (Meters):\"))\n",
    "\n",
    "BMI=W / (H*H)\n",
    "print(f\"Your BMI is :{BMI:.2f}\")\n",
    "\n",
    "if BMI < 18.5:\n",
    "    print(\"Category: Underweight\")\n",
    "elif 18.5 <= BMI < 24.9:\n",
    "    print(\"Category: Normal weight\")\n",
    "elif 25 <= BMI < 29.9:\n",
    "    print(\"Category: Overweight\")\n",
    "else:\n",
    "    print(\"Category: Obese\")\n",
    "\n"
   ]
  },
  {
   "cell_type": "code",
   "execution_count": 10,
   "id": "0d062c45-7f75-4e95-8499-10f5d25ff3aa",
   "metadata": {},
   "outputs": [
    {
     "name": "stdin",
     "output_type": "stream",
     "text": [
      "1: USD--> NPR \n",
      " 2: NPR --> USD \n",
      " 1\n",
      "Money in USD: 10\n"
     ]
    },
    {
     "name": "stdout",
     "output_type": "stream",
     "text": [
      "NPR:1320\n"
     ]
    }
   ],
   "source": [
    "\"\"\"\n",
    "    4. Currency Converter\n",
    "     Goal: Write a program that converts an amount from one currency to another.\n",
    "     Hints:\n",
    "     • Ask the user to input the amount in their local currency.\n",
    "     • Use a fixed exchange rate (e.g., 1 USD = 132 NPR).\n",
    "     • Convert and display the amount in the target currency.\n",
    "\"\"\"\n",
    "\n",
    "def main():\n",
    "    option=int(input(\"1: USD--> NPR \\n 2: NPR --> USD \\n\"))\n",
    "    if option ==1:\n",
    "        money = int(input(\"Money in USD:\"))\n",
    "        print(f\"NPR:{convert(money,1)}\")\n",
    "    elif option==2:\n",
    "        money = int(input(\"Money in NPR:\"))\n",
    "        print(f\"USD:{USD(money,2)}\")\n",
    "\n",
    "    else:\n",
    "        print(\"invalid input\")\n",
    "\n",
    "def convert(money,n):\n",
    "    if n==1:\n",
    "        return money*132\n",
    "    else:\n",
    "        return money/132\n",
    "main()\n",
    "\n"
   ]
  },
  {
   "cell_type": "code",
   "execution_count": 11,
   "id": "ab646e5a-5215-4ac7-b341-4f11772474e2",
   "metadata": {},
   "outputs": [
    {
     "name": "stdin",
     "output_type": "stream",
     "text": [
      "Enter the Temperature:  20\n",
      "Enter 1 to convert from Fahrenheit to Celsius\n",
      "Enter 2 to convert from Celsius to Fahrenheit\n",
      "Your choice:  2\n"
     ]
    },
    {
     "name": "stdout",
     "output_type": "stream",
     "text": [
      "20.0°C is 68.00°F\n"
     ]
    }
   ],
   "source": [
    "\n",
    "\n",
    "\n",
    "\n",
    "def celsius(f):\n",
    "    return (f - 32) * 5 / 9\n",
    "\n",
    "def fahrenheit(c):\n",
    "    return (c * 9 / 5) + 32\n",
    "\n",
    "def main_fxn():\n",
    "    try:\n",
    "        temp = float(input(\"Enter the Temperature: \"))\n",
    "        choice = input(\"Enter 1 to convert from Fahrenheit to Celsius\\nEnter 2 to convert from Celsius to Fahrenheit\\nYour choice: \")\n",
    "\n",
    "        match choice:\n",
    "            case \"1\":\n",
    "                result = celsius(temp)\n",
    "                print(f\"{temp}°F is {result:.2f}°C\")\n",
    "\n",
    "            case \"2\":\n",
    "                result = fahrenheit(temp)\n",
    "                print(f\"{temp}°C is {result:.2f}°F\")\n",
    "\n",
    "            case _:\n",
    "                print(\"Invalid choice. Please enter 1 or 2.\")\n",
    "    except ValueError:\n",
    "        print(\"Invalid input. Please enter numeric values.\")\n",
    "\n",
    "main_fxn()\n"
   ]
  }
 ],
 "metadata": {
  "kernelspec": {
   "display_name": "Python 3 (ipykernel)",
   "language": "python",
   "name": "python3"
  },
  "language_info": {
   "codemirror_mode": {
    "name": "ipython",
    "version": 3
   },
   "file_extension": ".py",
   "mimetype": "text/x-python",
   "name": "python",
   "nbconvert_exporter": "python",
   "pygments_lexer": "ipython3",
   "version": "3.13.1"
  }
 },
 "nbformat": 4,
 "nbformat_minor": 5
}
