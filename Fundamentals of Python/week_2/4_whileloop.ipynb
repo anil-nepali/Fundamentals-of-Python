{
 "cells": [
  {
   "cell_type": "code",
   "execution_count": null,
   "id": "25be8310-4382-48cd-b186-21f461295093",
   "metadata": {},
   "outputs": [],
   "source": [
    "#while loop in Python\n",
    "'''\n",
    "    A while loop in python is used to repeatedly execute a block of code\n",
    "    as long as a given condition is true.\n",
    "    The condition is checked before each iteration,\n",
    "    and if it evaluates to False,\n",
    "    the loop terminates\n",
    "\n",
    "    syntax:\n",
    "    while condition:\n",
    "        #code block to execute\n",
    "'''\n",
    "\n",
    "\n"
   ]
  },
  {
   "cell_type": "code",
   "execution_count": null,
   "id": "8864274b-bd1f-400a-99bb-861a5ade5bb2",
   "metadata": {},
   "outputs": [],
   "source": [
    "count =5\n",
    "while count>0:\n",
    "    print(count)\n",
    "    count -=1\n",
    "else:\n",
    "    print(\"Loop is Finished!\")"
   ]
  },
  {
   "cell_type": "code",
   "execution_count": null,
   "id": "e0d4b6b7-ce7c-4d90-819b-0a8633a56c6e",
   "metadata": {},
   "outputs": [],
   "source": [
    "#control statements in while loop\n",
    "count=5\n",
    "while count>0:\n",
    "    if count==3:\n",
    "        break\n",
    "    print(count)\n",
    "    count-=1\n",
    "else:\n",
    "    print(\"Loopp is finished!\")\n"
   ]
  },
  {
   "cell_type": "code",
   "execution_count": null,
   "id": "7cd6ed1b-f78e-48cd-82db-f6c86526906d",
   "metadata": {},
   "outputs": [],
   "source": [
    "\n",
    "#calculate the sum of First N natural numbers\n",
    "n=5\n",
    "total=0\n",
    "i=1\n",
    "while i<=n:\n",
    "    total +=i\n",
    "    i+=1\n",
    "print(f\"The sum of first natural number of {n} is {total}\")"
   ]
  },
  {
   "cell_type": "code",
   "execution_count": null,
   "id": "6b5da47d-a62c-4805-ab4a-d529bcffec5a",
   "metadata": {},
   "outputs": [],
   "source": [
    "\"\"\"\n",
    "Suppose that a machine sells bottles of Coca-Cola (Coke) for 50 cents\n",
    "and only accepts coins in these denominations: 25 cents, 10 cents, and 5 cents.\n",
    "\n",
    "In a file called coke.py, implement a program that prompts the user to insert a coin,\n",
    "one at a time, each time informing the user of the amount due. Once the user has inputted at least 50 cents,\n",
    "output how many cents in change the user is owed.\n",
    "Assume that the user will only input integers, and ignore any integer that isn’t an accepted denomination.\n",
    "\"\"\""
   ]
  },
  {
   "cell_type": "code",
   "execution_count": null,
   "id": "773e0bed-dcd6-4d0f-89c7-c7f5197fff38",
   "metadata": {},
   "outputs": [],
   "source": [
    "req_amount = 50\n",
    "inserted = 0\n",
    "\n",
    "while inserted < req_amount:\n",
    "    print(f\"Amount Due: {req_amount - inserted}\")\n",
    "    coin = int(input(\"Insert Coin: \"))\n",
    "\n",
    "    if coin in [25, 10, 5]:\n",
    "        inserted += coin\n",
    "    else:\n",
    "        print(\"Invalid coin.\")\n",
    "        \n",
    "change = inserted - req_amount\n",
    "print(f\"Change Owed: {change}\")\n"
   ]
  },
  {
   "cell_type": "code",
   "execution_count": null,
   "id": "27ec3ec3-9809-41cc-876d-d4feee3c43d9",
   "metadata": {},
   "outputs": [],
   "source": [
    "con = []  # List to store inserted coins\n",
    "required = 50\n",
    "\n",
    "while sum(con) < required:\n",
    "    print(f\"Amount Due: {required - sum(con)}\")\n",
    "    coin = int(input(\"Insert Coin: \"))\n",
    "    \n",
    "    if coin in [25, 10, 5]:\n",
    "        con.append(coin)\n",
    "    else:\n",
    "        print(\"Invalid coin.\")\n",
    "\n",
    "change = sum(con) - required\n",
    "print(f\"Change Owed: {change}\")\n"
   ]
  }
 ],
 "metadata": {
  "kernelspec": {
   "display_name": "Python 3 (ipykernel)",
   "language": "python",
   "name": "python3"
  },
  "language_info": {
   "codemirror_mode": {
    "name": "ipython",
    "version": 3
   },
   "file_extension": ".py",
   "mimetype": "text/x-python",
   "name": "python",
   "nbconvert_exporter": "python",
   "pygments_lexer": "ipython3",
   "version": "3.13.1"
  }
 },
 "nbformat": 4,
 "nbformat_minor": 5
}
