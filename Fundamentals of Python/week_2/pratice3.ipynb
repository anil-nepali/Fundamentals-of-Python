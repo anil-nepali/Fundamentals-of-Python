{
 "cells": [
  {
   "cell_type": "code",
   "execution_count": 1,
   "id": "7882ed49-6a28-4297-a878-aa3c46011a0b",
   "metadata": {},
   "outputs": [
    {
     "name": "stdout",
     "output_type": "stream",
     "text": [
      "This is my first program in Jupyter Notebook\n"
     ]
    }
   ],
   "source": [
    "print(\"This is my first program in Jupyter Notebook\")"
   ]
  },
  {
   "cell_type": "code",
   "execution_count": 10,
   "id": "c426bffe-7580-44f7-b6d7-c05c780de81d",
   "metadata": {},
   "outputs": [
    {
     "name": "stdin",
     "output_type": "stream",
     "text": [
      "Enter the Birth Year of the person:  2003\n"
     ]
    },
    {
     "name": "stdout",
     "output_type": "stream",
     "text": [
      "Current Year:2025\n",
      "The person is 22 years old.\n"
     ]
    }
   ],
   "source": [
    "import datetime\n",
    "\n",
    "birth_year=int(input(\"Enter the Birth Year of the person: \"))\n",
    "\n",
    "current_year = datetime.datetime.now().year\n",
    "\n",
    "age=current_year-birth_year\n",
    "\n",
    "print(f\"Current Year:{current_year}\")\n",
    "print(f\"The person is {age} years old.\")\n"
   ]
  },
  {
   "cell_type": "code",
   "execution_count": 22,
   "id": "3824664f-938c-4f69-8199-8b598d53984e",
   "metadata": {},
   "outputs": [
    {
     "name": "stdin",
     "output_type": "stream",
     "text": [
      "Enter the Birth year of the person: 2003\n"
     ]
    },
    {
     "name": "stdout",
     "output_type": "stream",
     "text": [
      "Current Year is :2025\n",
      "The age of person is:22\n"
     ]
    }
   ],
   "source": [
    "import datetime\n",
    "birth_year=int(input(\"Enter the Birth year of the person:\"))\n",
    "recent=datetime.datetime.now()\n",
    "current_year=int(recent.strftime(\"%Y\"))\n",
    "print(f\"Current Year is :{current_year}\")\n",
    "age = current_year-birth_year\n",
    "print(f\"The age of person is:{age}\")"
   ]
  },
  {
   "cell_type": "code",
   "execution_count": 23,
   "id": "0b846613-1242-4306-a5a2-ce571b99035c",
   "metadata": {},
   "outputs": [
    {
     "name": "stdin",
     "output_type": "stream",
     "text": [
      "Enter the Temperature:  22\n",
      "Enter 1 to convert from Fahrenheit to Celsius\n",
      "Enter 2 to convert from Celsius to Fahrenheit\n",
      "Your choice:  1\n"
     ]
    },
    {
     "name": "stdout",
     "output_type": "stream",
     "text": [
      "22.0°F is -5.56°C\n"
     ]
    }
   ],
   "source": [
    "def celsius(f):\n",
    "    return (f - 32) * 5 / 9\n",
    "\n",
    "def fahrenheit(c):\n",
    "    return (c * 9 / 5) + 32\n",
    "\n",
    "def main_fxn():\n",
    "    try:\n",
    "        temp = float(input(\"Enter the Temperature: \"))\n",
    "        choice = input(\"Enter 1 to convert from Fahrenheit to Celsius\\nEnter 2 to convert from Celsius to Fahrenheit\\nYour choice: \")\n",
    "\n",
    "        match choice:\n",
    "            case \"1\":\n",
    "                result = celsius(temp)\n",
    "                print(f\"{temp}°F is {result:.2f}°C\")\n",
    "\n",
    "            case \"2\":\n",
    "                result = fahrenheit(temp)\n",
    "                print(f\"{temp}°C is {result:.2f}°F\")\n",
    "\n",
    "            case _:\n",
    "                print(\"Invalid choice. Please enter 1 or 2.\")\n",
    "    except ValueError:\n",
    "        print(\"Invalid input. Please enter numeric values.\")\n",
    "\n",
    "main_fxn()\n"
   ]
  },
  {
   "cell_type": "code",
   "execution_count": 26,
   "id": "956f7123-aeac-4592-9256-84396c9aad1e",
   "metadata": {},
   "outputs": [
    {
     "name": "stdin",
     "output_type": "stream",
     "text": [
      "Enter the Principal amount (Rs):  80000\n",
      "Enter the Annual Interest Rate (%):  2\n",
      "Enter the Time (in years):  1\n"
     ]
    },
    {
     "name": "stdout",
     "output_type": "stream",
     "text": [
      "\n",
      "Simple Interest = Rs 1600.00\n",
      "Total Amount after 1.0 years = Rs 81600.00\n"
     ]
    }
   ],
   "source": [
    "P = float(input(\"Enter the Principal amount (Rs): \"))\n",
    "R = float(input(\"Enter the Annual Interest Rate (%): \"))\n",
    "T = float(input(\"Enter the Time (in years): \"))\n",
    "\n",
    "SI = (P * R * T) / 100\n",
    "\n",
    "total_amount = P + SI\n",
    "\n",
    "print(f\"\\nSimple Interest = Rs {SI:.2f}\")\n",
    "print(f\"Total Amount after {T} years = Rs {total_amount:.2f}\")\n"
   ]
  },
  {
   "cell_type": "code",
   "execution_count": 28,
   "id": "0765aa3b-a3ac-49da-a51d-9a3c6fb3fc5c",
   "metadata": {},
   "outputs": [
    {
     "name": "stdin",
     "output_type": "stream",
     "text": [
      "Enter the weight of person (kg): 45\n",
      "Enter the height of person (Meters): 4\n"
     ]
    },
    {
     "name": "stdout",
     "output_type": "stream",
     "text": [
      "Your BMI is :2.81\n",
      "Category: Underweight\n"
     ]
    }
   ],
   "source": [
    "W= float(input(\"Enter the weight of person (kg):\"))\n",
    "H = float(input(\"Enter the height of person (Meters):\"))\n",
    "\n",
    "BMI=W / (H*H)\n",
    "print(f\"Your BMI is :{BMI:.2f}\")\n",
    "\n",
    "if BMI < 18.5:\n",
    "    print(\"Category: Underweight\")\n",
    "elif 18.5 <= BMI < 24.9:\n",
    "    print(\"Category: Normal weight\")\n",
    "elif 25 <= BMI < 29.9:\n",
    "    print(\"Category: Overweight\")\n",
    "else:\n",
    "    print(\"Category: Obese\")\n",
    "\n"
   ]
  },
  {
   "cell_type": "code",
   "execution_count": 19,
   "id": "cfc001be-8d9e-43bb-8f55-d65ca255b2f2",
   "metadata": {},
   "outputs": [
    {
     "name": "stdout",
     "output_type": "stream",
     "text": [
      "7\n",
      "3.14 \n",
      "2.0\n"
     ]
    }
   ],
   "source": [
    "import random\n",
    "\n",
    "print(random.randint(1,10))\n",
    "\n",
    "from math import pi, sqrt\n",
    "\n",
    "print(f\"{pi:.2f} \\n{sqrt(4)}\")\n",
    "\n"
   ]
  }
 ],
 "metadata": {
  "kernelspec": {
   "display_name": "Python 3 (ipykernel)",
   "language": "python",
   "name": "python3"
  },
  "language_info": {
   "codemirror_mode": {
    "name": "ipython",
    "version": 3
   },
   "file_extension": ".py",
   "mimetype": "text/x-python",
   "name": "python",
   "nbconvert_exporter": "python",
   "pygments_lexer": "ipython3",
   "version": "3.13.1"
  }
 },
 "nbformat": 4,
 "nbformat_minor": 5
}
