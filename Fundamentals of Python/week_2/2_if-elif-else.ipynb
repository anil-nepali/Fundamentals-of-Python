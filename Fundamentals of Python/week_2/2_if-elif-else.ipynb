{
 "cells": [
  {
   "cell_type": "code",
   "execution_count": null,
   "id": "4bc0fcd4-8733-4d2d-8802-c03b82a1b4c1",
   "metadata": {},
   "outputs": [],
   "source": [
    "'''\n",
    "    if_elif_else Statement:\n",
    "    used when multiple conditions need to be checked\n",
    "    the else block is optional\n",
    "\n",
    "    syntax:\n",
    "    if condition:\n",
    "        //Block of code\n",
    "    elif condition:\n",
    "        //Block of code:\n",
    "    else:\n",
    "        //Block of code\n",
    "'''\n",
    "\n"
   ]
  },
  {
   "cell_type": "code",
   "execution_count": null,
   "id": "3a83673d-634c-439c-8bc2-dbb96207e4ae",
   "metadata": {},
   "outputs": [],
   "source": [
    "#program to print largest number among three numbers:\n",
    "a = 22\n",
    "b = 33\n",
    "c = 14\n",
    "if a > b and a > c:\n",
    "    print(\"A is gretest number\")\n",
    "elif b > a and b > c:\n",
    "    print(\"B is largest number\")  # B is largest number\n",
    "else:\n",
    "    print(\"c is the largest numbers \")\n",
    "\n",
    "\n",
    "'''"
   ]
  },
  {
   "cell_type": "code",
   "execution_count": null,
   "id": "d88b9188-c57d-4c37-beb2-3d635b255200",
   "metadata": {},
   "outputs": [],
   "source": [
    "#Robo r2d2 movement with key input\n",
    "\n",
    "#define constant for movements:\n",
    "password=\"python2024\"\n",
    "forward='W'\n",
    "backward='S'\n",
    "left='A'\n",
    "right='D'\n",
    "fire='L'\n",
    "\n",
    "Password =input(\"Enter the password to unlock robort:\")\n",
    "if password==Password:\n",
    "    print(\"Password granted! You can unlock to follow desires:\")\n",
    "\n",
    "    int_char=input(\"Give your Input:\").upper()\n",
    "    if int_char==forward:\n",
    "        print(\"Move forward\")\n",
    "    elif int_char==backward:\n",
    "        print(\"Move Backward\")\n",
    "    elif int_char==left:\n",
    "        print(\"Move Left\")\n",
    "    elif int_char==right:\n",
    "        print(\"Move Right\")\n",
    "    elif int_char==fire:\n",
    "        print(\"Move Left\")\n",
    "    else:\n",
    "        print(\"Invalid Input !Better luck next time:\")\n",
    "else:\n",
    "    print(\"Access denied!Without the correct password you cannot move!\")\n",
    "\n",
    "'''\n",
    "Enter the password to unlock robort:python2024\n",
    "Password granted! You can unlock to follow desires:\n",
    "Give your Input:d\n",
    "Move Right\n",
    "\"\"\""
   ]
  },
  {
   "cell_type": "code",
   "execution_count": null,
   "id": "714f1d47-107a-4501-a9ea-8860ff697996",
   "metadata": {},
   "outputs": [
    {
     "name": "stdin",
     "output_type": "stream",
     "text": [
      "Enter the greeting: help\n"
     ]
    },
    {
     "name": "stdout",
     "output_type": "stream",
     "text": [
      "Invalid input:\n"
     ]
    }
   ],
   "source": [
    "a=\"hello\"\n",
    "b=\"hey\"\n",
    "c=\"100\"\n",
    "\n",
    "given_greet=input(\"Enter the greeting:\")\n",
    "if given_greet==a:\n",
    "    print(\"$0\")\n",
    "else:\n",
    "    print(\"Invalid input:\")\n",
    "given_char=input(\"Enter the Chacter:\")\n",
    "if given_char==b:\n",
    "    print(\"$20\")\n",
    "else:\n",
    "    print(\"Invalid input:\")\n",
    "given_num=int(input(\"Enter the Number :\"))\n",
    "if given_num==c:\n",
    "    print(\"$100\")\n",
    "else:\n",
    "    print(\"Invalid input:\")\n"
   ]
  }
 ],
 "metadata": {
  "kernelspec": {
   "display_name": "Python 3 (ipykernel)",
   "language": "python",
   "name": "python3"
  },
  "language_info": {
   "codemirror_mode": {
    "name": "ipython",
    "version": 3
   },
   "file_extension": ".py",
   "mimetype": "text/x-python",
   "name": "python",
   "nbconvert_exporter": "python",
   "pygments_lexer": "ipython3",
   "version": "3.13.1"
  }
 },
 "nbformat": 4,
 "nbformat_minor": 5
}
