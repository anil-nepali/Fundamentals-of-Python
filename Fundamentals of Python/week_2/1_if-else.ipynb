{
 "cells": [
  {
   "cell_type": "code",
   "execution_count": null,
   "id": "ee87e988-7eef-4c76-ba42-3cabf4d26d6b",
   "metadata": {},
   "outputs": [],
   "source": [
    "#In python Conditional statement are used to perform different action based on\n",
    "#Weather a condition evaluates \"True\" or \"False\"\n",
    "\n",
    "'''\n",
    "\n",
    "    syntax:\n",
    "    if condition:\n",
    "        //block of code\n",
    "    else:\n",
    "        //block of code\n",
    "'''\n",
    "\n"
   ]
  },
  {
   "cell_type": "code",
   "execution_count": 4,
   "id": "10ff003e-ef46-4a4f-935c-074f2ad7c6ac",
   "metadata": {},
   "outputs": [
    {
     "name": "stdin",
     "output_type": "stream",
     "text": [
      "Enter the age of person: 66\n"
     ]
    },
    {
     "name": "stdout",
     "output_type": "stream",
     "text": [
      "User can login in tho the form\n"
     ]
    }
   ],
   "source": [
    "\n",
    "age=int(input(\"Enter the age of person:\"))\n",
    "\n",
    "if age>=18:\n",
    "    print(\"User can login in tho the form\")\n",
    "else:\n",
    "    print(\"Sorry! you're age in not valid\")\n",
    "\n"
   ]
  },
  {
   "cell_type": "code",
   "execution_count": 3,
   "id": "207e6592-e837-417f-97c5-000cb4972dab",
   "metadata": {},
   "outputs": [
    {
     "name": "stdin",
     "output_type": "stream",
     "text": [
      "Enter any integer number: 4\n"
     ]
    },
    {
     "name": "stdout",
     "output_type": "stream",
     "text": [
      "Number is even number\n"
     ]
    }
   ],
   "source": [
    "\n",
    "#program to print odd or even\n",
    "num=int(input(\"Enter any integer number:\"))\n",
    "if num>0:\n",
    "    if num%2==0:\n",
    "        print(\"Number is even number\")\n",
    "else:\n",
    "    print(\"Number is odd\")"
   ]
  },
  {
   "cell_type": "code",
   "execution_count": 1,
   "id": "5055a3e9-f16f-4a54-9d51-2938f8f47de8",
   "metadata": {},
   "outputs": [
    {
     "name": "stdin",
     "output_type": "stream",
     "text": [
      "Input Number:  33\n"
     ]
    },
    {
     "name": "stdout",
     "output_type": "stream",
     "text": [
      "Absolute value of 33 is 33.\n"
     ]
    }
   ],
   "source": [
    "\n",
    "#program to Print  absolute value of a number\n",
    "# Input a number from the user\n",
    "#when int is given it always give integer thus int is introduced\n",
    "\n",
    "x = int(input(\"Input Number: \"))\n",
    "\n",
    "# Calculate the absolute value using if-else\n",
    "if x < 0:\n",
    "    abs_value = -x\n",
    "else:\n",
    "    abs_value = x\n",
    "\n",
    "# Print the result\n",
    "print(f\"Absolute value of {x} is {abs_value}.\")"
   ]
  }
 ],
 "metadata": {
  "kernelspec": {
   "display_name": "Python 3 (ipykernel)",
   "language": "python",
   "name": "python3"
  },
  "language_info": {
   "codemirror_mode": {
    "name": "ipython",
    "version": 3
   },
   "file_extension": ".py",
   "mimetype": "text/x-python",
   "name": "python",
   "nbconvert_exporter": "python",
   "pygments_lexer": "ipython3",
   "version": "3.13.1"
  }
 },
 "nbformat": 4,
 "nbformat_minor": 5
}
